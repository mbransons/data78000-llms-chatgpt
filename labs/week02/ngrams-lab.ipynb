{
 "cells": [
  {
   "cell_type": "markdown",
   "id": "a51f17aa",
   "metadata": {},
   "source": [
    "## Ngrams lab\n",
    "LLM's and ChatGPT | Fall 2023 | McSweeney | CUNY Graduate Center\n",
    "\n",
    "**Due:** September 17\n",
    "\n",
    "\n",
    "### Background\n",
    "The purpose of this lab is to explore ngram models. Ngram models are a good introduction to language models generally. Language models are probabilistic representations of language. Ngrams have the benefit of being easy to interrogate and relatively easy to understand (as compared to neural networks). \n",
    "\n",
    "In this lab, you will build an ngram model from the corpus of your choosing. The example is with 'The Great Gatsby' from Project Gutenberg, but there's a code block for any text file on your computer  \n",
    "\n",
    "\n",
    "#### Notes\n",
    "This lab is based heavily on the [nltk documentation](https://www.nltk.org/api/nltk.lm.html)"
   ]
  },
  {
   "cell_type": "code",
   "execution_count": 2,
   "id": "ef35858b",
   "metadata": {},
   "outputs": [
    {
     "name": "stderr",
     "output_type": "stream",
     "text": [
      "[nltk_data] Downloading package punkt to\n",
      "[nltk_data]     /Users/michaelsmith/nltk_data...\n",
      "[nltk_data]   Package punkt is already up-to-date!\n"
     ]
    }
   ],
   "source": [
    "import numpy as np\n",
    "import re\n",
    "\n",
    "import nltk\n",
    "# if you haven't downloaded punkt before, you only need to run the line below once \n",
    "# nltk.download('punkt')\n",
    "from nltk import word_tokenize\n",
    "from nltk import sent_tokenize\n",
    "\n",
    "from nltk.util import bigrams\n",
    "from nltk.lm.preprocessing import padded_everygram_pipeline\n",
    "\n",
    "import requests"
   ]
  },
  {
   "cell_type": "markdown",
   "id": "e7017636",
   "metadata": {},
   "source": [
    "# Part 1\n",
    "An example of how ngrams are generated"
   ]
  },
  {
   "cell_type": "code",
   "execution_count": 3,
   "id": "de8054bf",
   "metadata": {},
   "outputs": [
    {
     "name": "stdout",
     "output_type": "stream",
     "text": [
      "The Project Gutenberg eBook of The Great Gatsby        This ebook is for the use of anyone anywhere\n"
     ]
    }
   ],
   "source": [
    "# you will need to leverage the requests package\n",
    "r = requests.get(r'https://www.gutenberg.org/cache/epub/64317/pg64317.txt')\n",
    "great_gatsby = r.text\n",
    "\n",
    "# first, remove unwanted new line and tab characters from the text\n",
    "for char in [\"\\n\", \"\\r\", \"\\d\", \"\\t\"]:\n",
    "    great_gatsby = great_gatsby.replace(char, \" \")\n",
    "\n",
    "# check\n",
    "print(great_gatsby[:100])\n"
   ]
  },
  {
   "cell_type": "code",
   "execution_count": 194,
   "id": "886ac257",
   "metadata": {},
   "outputs": [
    {
     "name": "stdout",
     "output_type": "stream",
     "text": [
      "the East last autumn I felt that I wanted  the world to be in uniform and at a sort of moral attenti\n"
     ]
    }
   ],
   "source": [
    "# remove the metadata at the beginning - this is slightly different for each book\n",
    "great_gatsby = great_gatsby[983:]\n",
    "print(great_gatsby[:100])"
   ]
  },
  {
   "cell_type": "markdown",
   "id": "ad39a39e",
   "metadata": {},
   "source": [
    "#### Txt locally\n",
    "If you'd rather use a file on your computer, here's the code -- you just need to save the text file in your local directory, and change the variables throughout. \n",
    "\n",
    "The example is a report from the [Congressional Research Service](https://www.everycrsreport.com/files/2020-11-10_R45178_62d6238caecf6c02ddf495be33b3439f09eed744.pdf) on AI and National Security."
   ]
  },
  {
   "cell_type": "code",
   "execution_count": 195,
   "id": "a465698c",
   "metadata": {},
   "outputs": [
    {
     "name": "stdout",
     "output_type": "stream",
     "text": [
      "     Chapter I The Cyclone   Dorothy lived in the midst of the great Kansas prairies, with Uncle Hen\n"
     ]
    }
   ],
   "source": [
    "f = open(\"the-wizard-of-oz.txt\", 'r').read()\n",
    "\n",
    "for char in ['\\n', '\\r', '\\d', '\\t']:\n",
    "    f = f.replace(char, ' ')\n",
    "\n",
    "wiz_of_oz = f[3110:]\n",
    "print(wiz_of_oz[:100])"
   ]
  },
  {
   "cell_type": "code",
   "execution_count": 82,
   "id": "8c4c9736",
   "metadata": {},
   "outputs": [
    {
     "name": "stdout",
     "output_type": "stream",
     "text": [
      "['chapter', 'i', 'the', 'cyclone', 'dorothy', 'lived', 'in', 'the', 'midst', 'of', 'the', 'great', 'kansas', 'prairies', 'with', 'uncle', 'henry', 'who', 'was', 'a', 'farmer', 'and', 'aunt', 'em', 'who', 'was', 'the', 'farmers', 'wife', 'their', 'house', 'was', 'small', 'for', 'the', 'lumber', 'to', 'build', 'it', 'had', 'to', 'be', 'carried', 'by', 'wagon', 'many', 'miles', 'there', 'were', 'four']\n"
     ]
    }
   ],
   "source": [
    "# this is simplified for demonstration\n",
    "def sample_clean_text(text: str):\n",
    "    # lowercase\n",
    "    text = text.lower()\n",
    "    \n",
    "    # remove punctuation from text\n",
    "    text = re.sub(r\"[^\\w\\s]\", \"\", text)\n",
    "    \n",
    "    # tokenize the text\n",
    "    tokens = nltk.word_tokenize(text)\n",
    "    \n",
    "    # return your tokens\n",
    "    return tokens\n",
    "\n",
    "# call the function\n",
    "sample_tokens = sample_clean_text(text = wiz_of_oz)\n",
    "\n",
    "# check\n",
    "print(sample_tokens[:50])"
   ]
  },
  {
   "cell_type": "code",
   "execution_count": 83,
   "id": "94d828dd",
   "metadata": {},
   "outputs": [
    {
     "data": {
      "text/plain": [
       "[('chapter', 'i'),\n",
       " ('i', 'the'),\n",
       " ('the', 'cyclone'),\n",
       " ('cyclone', 'dorothy'),\n",
       " ('dorothy', 'lived'),\n",
       " ('lived', 'in'),\n",
       " ('in', 'the'),\n",
       " ('the', 'midst'),\n",
       " ('midst', 'of'),\n",
       " ('of', 'the')]"
      ]
     },
     "execution_count": 83,
     "metadata": {},
     "output_type": "execute_result"
    }
   ],
   "source": [
    "# create bigrams from the sample tokens\n",
    "my_bigrams = bigrams(sample_tokens)\n",
    "\n",
    "# check\n",
    "list(my_bigrams)[:10]"
   ]
  },
  {
   "cell_type": "markdown",
   "id": "239deb54",
   "metadata": {},
   "source": [
    "# Part 2 - creating an ngram model\n"
   ]
  },
  {
   "cell_type": "code",
   "execution_count": 84,
   "id": "9aba6849",
   "metadata": {},
   "outputs": [],
   "source": [
    "# 2 is for bigrams\n",
    "n = 2\n",
    "#specify the text you want to use\n",
    "text = wiz_of_oz\n"
   ]
  },
  {
   "cell_type": "markdown",
   "id": "0be61c83",
   "metadata": {},
   "source": [
    "Now we are going to use an NLTK shortcut for preprocessing. This will:\n",
    "* pad all of the sentences with `<s>` and `</s>` to train on sentence boundaries, too.\n",
    "* create both unigrams and bigrams\n",
    "* create a training set and a full vocab to train on\n",
    "\n",
    "We need to give it a pre-tokenized text (we'll use nltk's tokenizer)"
   ]
  },
  {
   "cell_type": "code",
   "execution_count": 44,
   "id": "6276da8d",
   "metadata": {},
   "outputs": [
    {
     "name": "stdout",
     "output_type": "stream",
     "text": [
      "['chapter', 'i', 'the', 'cyclone', 'dorothy', 'lived', 'in', 'the', 'midst', 'of', 'the', 'great', 'kansas', 'prairies', ',', 'with', 'uncle', 'henry', ',', 'who', 'was', 'a', 'farmer', ',', 'and', 'aunt', 'em', ',', 'who', 'was', 'the', 'farmer', '’', 's', 'wife', '.']\n"
     ]
    }
   ],
   "source": [
    "# step 1: tokenize the text into sentences\n",
    "sentences = nltk.sent_tokenize(text)\n",
    "\n",
    "# step 2: tokenize each sentence into words\n",
    "tokenized_sentences = [nltk.word_tokenize(sent) for sent in sentences]\n",
    "\n",
    "# step 3: convert each word to lowercase\n",
    "tokenized_text = [[word.lower() for word in sent] for sent in tokenized_sentences]\n",
    "\n",
    "#notice the sentence breaks and what the first 10 items of the tokenized text\n",
    "print(tokenized_text[0])"
   ]
  },
  {
   "cell_type": "markdown",
   "id": "b3b7a3de",
   "metadata": {},
   "source": [
    "Why tokenize sentences and words?\n",
    "We want to be able to retain sentence boundaries to encode that, too."
   ]
  },
  {
   "cell_type": "code",
   "execution_count": 86,
   "id": "9fbc5554",
   "metadata": {},
   "outputs": [
    {
     "name": "stdout",
     "output_type": "stream",
     "text": [
      "     Chapter I The Cyclone   Dorothy lived in the midst of the great Kansas prairies, with Uncle Henry\n"
     ]
    }
   ],
   "source": [
    "# notice what the first 10 items are of the vocabulary\n",
    "print(text[:102])"
   ]
  },
  {
   "cell_type": "code",
   "execution_count": 46,
   "id": "c306af37",
   "metadata": {},
   "outputs": [],
   "source": [
    "# we imported this function from nltk\n",
    "train_data, padded_sents = padded_everygram_pipeline(n, tokenized_text)"
   ]
  },
  {
   "cell_type": "code",
   "execution_count": 47,
   "id": "ca61c962",
   "metadata": {},
   "outputs": [],
   "source": [
    "from nltk.lm import MLE\n",
    "# we imported this function from nltk linear models (lm) \n",
    "# it is for Maximum Likelihood Estimation\n",
    "\n",
    "# MLE is the model we will use\n",
    "lm = MLE(n)"
   ]
  },
  {
   "cell_type": "code",
   "execution_count": 48,
   "id": "c3ecfc43",
   "metadata": {},
   "outputs": [
    {
     "data": {
      "text/plain": [
       "0"
      ]
     },
     "execution_count": 48,
     "metadata": {},
     "output_type": "execute_result"
    }
   ],
   "source": [
    "# currently the vocab length is 0: it has no prior knowledge\n",
    "len(lm.vocab)"
   ]
  },
  {
   "cell_type": "code",
   "execution_count": 49,
   "id": "141795d8",
   "metadata": {},
   "outputs": [
    {
     "data": {
      "text/plain": [
       "3574"
      ]
     },
     "execution_count": 49,
     "metadata": {},
     "output_type": "execute_result"
    }
   ],
   "source": [
    "# fit the model \n",
    "# training data is the bigrams and unigrams \n",
    "# the vocab is all the sentence tokens in the corpus \n",
    "\n",
    "lm.fit(train_data, padded_sents)\n",
    "len(lm.vocab)"
   ]
  },
  {
   "cell_type": "code",
   "execution_count": 50,
   "id": "941458b2",
   "metadata": {},
   "outputs": [
    {
     "name": "stdout",
     "output_type": "stream",
     "text": [
      "('chapter', 'i', 'the', 'cyclone', 'dorothy', 'lived', 'in', 'the', 'midst', 'of', 'the', 'great', 'kansas', 'prairies', ',', 'with', 'uncle', 'henry', ',', 'who', 'was', 'a', 'farmer', ',', 'and', 'aunt', 'em', ',', 'who', 'was', 'the', 'farmer', '’', 's', 'wife', '.')\n"
     ]
    }
   ],
   "source": [
    "# inspect the model's vocabulary. \n",
    "# be sure that a sentence you know exists (from tokenized_text) is in the \n",
    "print(lm.vocab.lookup(tokenized_text[0]))"
   ]
  },
  {
   "cell_type": "code",
   "execution_count": 51,
   "id": "d820f1f0",
   "metadata": {},
   "outputs": [
    {
     "name": "stdout",
     "output_type": "stream",
     "text": [
      "('then', 'wear', 'the', 'gold', 'hat', '<UNK>', '.')\n"
     ]
    }
   ],
   "source": [
    "# see what happens when we include a word that is not in the vocab. \n",
    "print(lm.vocab.lookup('then wear the gold hat iphone .'.split()))"
   ]
  },
  {
   "cell_type": "markdown",
   "id": "0207d680",
   "metadata": {},
   "source": [
    "What did the model replace 'iphone' with? \n",
    "\n",
    "Given that it didn't just return an \"out of vocab\" error, what does that mean about our model? "
   ]
  },
  {
   "cell_type": "code",
   "execution_count": 52,
   "id": "da9cf2d4",
   "metadata": {},
   "outputs": [
    {
     "name": "stdout",
     "output_type": "stream",
     "text": [
      "367\n"
     ]
    },
    {
     "data": {
      "text/plain": [
       "0.0068670009729810645"
      ]
     },
     "execution_count": 52,
     "metadata": {},
     "output_type": "execute_result"
    }
   ],
   "source": [
    "# how many times does dorothy appear in the model?\n",
    "print(lm.counts['dorothy'])\n",
    "\n",
    "# what is the probability of dorothy appearing? \n",
    "# this is technically the relative frequency of dorothy appearing \n",
    "lm.score('dorothy')"
   ]
  },
  {
   "cell_type": "code",
   "execution_count": 53,
   "id": "f9369bed",
   "metadata": {},
   "outputs": [
    {
     "name": "stdout",
     "output_type": "stream",
     "text": [
      "20\n"
     ]
    },
    {
     "data": {
      "text/plain": [
       "0.05449591280653951"
      ]
     },
     "execution_count": 53,
     "metadata": {},
     "output_type": "execute_result"
    }
   ],
   "source": [
    "# how often does (dorothy, and) occur and what is the relative frequency?\n",
    "print(lm.counts[['dorothy']]['and'])\n",
    "lm.score('and', 'dorothy'.split())"
   ]
  },
  {
   "cell_type": "code",
   "execution_count": 54,
   "id": "174f226e",
   "metadata": {},
   "outputs": [
    {
     "data": {
      "text/plain": [
       "0.0"
      ]
     },
     "execution_count": 54,
     "metadata": {},
     "output_type": "execute_result"
    }
   ],
   "source": [
    "# what is the score of 'UNK'? \n",
    "\n",
    "lm.score(\"<UNK>\")"
   ]
  },
  {
   "cell_type": "markdown",
   "id": "d84c0444",
   "metadata": {},
   "source": [
    "Does the relative frequency of 'UNK' change your assumption about how the model behaves? \n",
    "\n",
    "How should we change our model to account for the fact the `<UNK>` words are not accounted for by the model?\n",
    "\n",
    "Note: *Programmatically implementing this solution is beyond the scope of this course.*"
   ]
  },
  {
   "cell_type": "markdown",
   "id": "5d621b05",
   "metadata": {},
   "source": [
    "## Generate text\n",
    "We want to start our sentence with a word, and use that to predict all the words that come after that. We'll specify how long it should be. \n",
    "\n",
    "There is a certain amount of randomness encoded into n-gram models. This prevents a model from becoming entirely deterministic. Maximum Likelihood Estimation without some degree of randomness will only produce the most likely result every time. Setting Random Seed means we will get the same result every time. "
   ]
  },
  {
   "cell_type": "code",
   "execution_count": 74,
   "id": "6e217db6",
   "metadata": {},
   "outputs": [
    {
     "name": "stdout",
     "output_type": "stream",
     "text": [
      "['the', 'little', 'black', 'eyes', ',', 'who', 'the', 'trees', 'were', 'everywhere', ',', 'i', 'am', 'stuffed', 'man', 'who', 'had', 'been', 'afraid', 'we']\n"
     ]
    }
   ],
   "source": [
    "# generate a 20 word sentence starting with the word, 'dorothy'\n",
    "\n",
    "print(lm.generate(20, text_seed= 'dorothy'))"
   ]
  },
  {
   "cell_type": "markdown",
   "id": "8e91b7a6",
   "metadata": {},
   "source": [
    "This next code block is just to clean up the tokenized words and make them easier on human eyes. It is literally a detokenizer, which removes some extraneous text markup and reconciles some words back together. "
   ]
  },
  {
   "cell_type": "code",
   "execution_count": 79,
   "id": "5113674e",
   "metadata": {},
   "outputs": [],
   "source": [
    "from nltk.tokenize.treebank import TreebankWordDetokenizer\n",
    "\n",
    "detokenize = TreebankWordDetokenizer().detokenize\n",
    "\n",
    "def generate_sent(lm, num_words, text_seed, random_seed=42):\n",
    "    \"\"\"\n",
    "    :param model: An ngram language model from `nltk.lm.model`.\n",
    "    :param num_words: Max no. of words to generate.\n",
    "    :param random_seed: Seed value for random.\n",
    "    \"\"\"\n",
    "    content = []\n",
    "    for token in lm.generate(num_words, text_seed=text_seed, random_seed=random_seed):\n",
    "        if token == '<s>':\n",
    "            continue\n",
    "        if token == '</s>':\n",
    "            break\n",
    "        content.append(token)\n",
    "    return detokenize(content)"
   ]
  },
  {
   "cell_type": "code",
   "execution_count": 96,
   "id": "2846e34e",
   "metadata": {},
   "outputs": [
    {
     "data": {
      "text/plain": [
       "'me, while his tears by the emerald green to'"
      ]
     },
     "execution_count": 96,
     "metadata": {},
     "output_type": "execute_result"
    }
   ],
   "source": [
    "# Now generate sentences that look much nicer. \n",
    "generate_sent(lm, 10, text_seed='dorothy', random_seed = 48)"
   ]
  },
  {
   "cell_type": "markdown",
   "id": "173ad126",
   "metadata": {},
   "source": [
    "Try a few more sentences, and try out another text. Once you are satisfied with what ngrams can (and cannot) do - post your code to your Github or another site. "
   ]
  },
  {
   "cell_type": "code",
   "execution_count": 99,
   "id": "87b321bc",
   "metadata": {},
   "outputs": [
    {
     "data": {
      "text/plain": [
       "'out the means of various formats will oil was a coward to the girl lived.'"
      ]
     },
     "execution_count": 99,
     "metadata": {},
     "output_type": "execute_result"
    }
   ],
   "source": [
    "generate_sent(lm, 20, text_seed='dorothy', random_seed = 53)"
   ]
  },
  {
   "cell_type": "code",
   "execution_count": 100,
   "id": "d3beff97",
   "metadata": {},
   "outputs": [
    {
     "data": {
      "text/plain": [
       "'electronic works even if the lion, however, and get to live in this way off all ready.'"
      ]
     },
     "execution_count": 100,
     "metadata": {},
     "output_type": "execute_result"
    }
   ],
   "source": [
    "generate_sent(lm, 20, text_seed='dorothy', random_seed = 47)"
   ]
  },
  {
   "cell_type": "code",
   "execution_count": 101,
   "id": "9a8e20bb",
   "metadata": {},
   "outputs": [
    {
     "data": {
      "text/plain": [
       "'little man spoke to the laughter that is fit better'"
      ]
     },
     "execution_count": 101,
     "metadata": {},
     "output_type": "execute_result"
    }
   ],
   "source": [
    "generate_sent(lm, 10, text_seed='dorothy', random_seed = 34)"
   ]
  },
  {
   "cell_type": "markdown",
   "id": "9f1ba6bf",
   "metadata": {},
   "source": [
    "## Parse Lines from SRT files\n",
    "\n",
    "modified from [pablo-var/learn-english-words-from-srt](https://github.com/pablo-var/learn-english-words-from-srt) repository"
   ]
  },
  {
   "cell_type": "code",
   "execution_count": 152,
   "id": "7e818b6d",
   "metadata": {},
   "outputs": [],
   "source": [
    "def is_time_stamp(l):\n",
    "  if l[:2].isnumeric() and l[2] == ':':\n",
    "    return True\n",
    "  return False\n",
    "\n",
    "def has_letters(line):\n",
    "  if re.search('[a-zA-Z]', line):\n",
    "    return True\n",
    "  return False\n",
    "\n",
    "def remove_non_ascii(text):\n",
    "    return ''.join(i for i in text if ord(i)<128)\n",
    "\n",
    "def has_no_text(line):\n",
    "  l = line.strip()\n",
    "  if not len(l):\n",
    "    return True\n",
    "  if l.isnumeric():\n",
    "    return True\n",
    "  if is_time_stamp(l):\n",
    "    return True\n",
    "  if l[0] == '(' and l[-1] == ')':\n",
    "    return True\n",
    "  if not has_letters(line):\n",
    "    return True\n",
    "  return False\n",
    "\n",
    "def is_lowercase_letter_or_comma(letter):\n",
    "  if letter.isalpha() and letter.lower() == letter:\n",
    "    return True\n",
    "  if letter == ',':\n",
    "    return True\n",
    "  return False\n",
    "\n",
    "def clean_up(lines):\n",
    "  \"\"\"\n",
    "  Get rid of all non-text lines and\n",
    "  try to combine text broken into multiple lines\n",
    "  \"\"\"\n",
    "  new_lines = []\n",
    "  for line in lines[1:]:\n",
    "    line = remove_non_ascii(line)\n",
    "    for char in [\"\\n\", \"\\r\", \"\\d\", \"\\t\"]:\n",
    "        line = line.replace(char, \"\")\n",
    "    if has_no_text(line):\n",
    "      continue\n",
    "    elif len(new_lines) and is_lowercase_letter_or_comma(line[0]):\n",
    "      #combine with previous line\n",
    "      new_lines[-1] = new_lines[-1].strip() + ' ' + line\n",
    "    else:\n",
    "      #append line\n",
    "      new_lines.append(line)\n",
    "  return new_lines"
   ]
  },
  {
   "cell_type": "markdown",
   "id": "5c56296a",
   "metadata": {},
   "source": [
    "Sample sentence tokenization of 'A Nightmare on Elm Street' srt file."
   ]
  },
  {
   "cell_type": "code",
   "execution_count": 153,
   "id": "c9a6f86e",
   "metadata": {},
   "outputs": [
    {
     "name": "stdout",
     "output_type": "stream",
     "text": [
      "['Tina.', 'Tina.', 'Tina.', 'Tina. Tina.', 'You okay, Tina?', 'Just a dream, Ma.', 'Some dream, judging from that.', '- You coming back to the sack or what?', '- Hold your horses.', 'Tina, honey, you gotta cut your fingernails or you gotta stop that kind of dreaming.', 'One or the other.', 'One, two', \"Freddy's coming for you\", 'Three, four', 'Better lock your door', 'Five, six', 'Grab your crucifix', 'Seven, eight', 'Gonna stay up late', 'Nine, ten', 'Never sleep again', 'It was so scary.', 'When I woke up, it seemed like he was still in the room.', 'Sounds like a real boogeyman.', '\"One, two, Freddy\\'s coming for you. \"', \"That's what it reminded me of: that old jump-rope song.\", 'The worst nightmare I ever had.', \"You wouldn't believe it.\", 'Matter of fact,', 'I had a bad dream last night myself.', 'I had a hard-on this morning when I woke up, Tina.', '- Had your name written all over it.', \"- There's four letters in my name, Rod.\", 'How could there be room on your joint for four letters?', 'Hey, up yours with a twirling lawn mower.', 'Nyah! Rod says the sweetest things.', \"- Oh, he's nuts about you.\", '- Yeah, nuts.', \"Anyway, I couldn't go back to sleep last night.\", '- So, what did you dream?', '- Forget it, Tina.', 'The point is that everyone has a bad dream once in a while.', \"It's no biggie.\", \"Just tell yourself that's all it is while you're having it.\", 'Once you do that, you wake right up.', 'At least it works for me.', 'Hey! Did you have a nightmare too?', \"Maybe we're gonna have a big earthquake.\", 'They say things get really weird just before.', \"I'm so glad you guys could come over tonight.\", 'When Mom said she was taking off for two days, I almost died.', 'No problem, Tina.', 'Nancy and Glen to the rescue.', \"Can't believe his mother's letting him spend the night.\", \"Right, well, she's not, exactly.\", 'I got this cousin who lives near the airport.', \"It's okay for me to stay with him.\", 'And I got this sound-effects tape from Rod, and...', 'Hello, Mom?', \"Yeah. Out here at Barry's.\", 'Huh? Yeah, noisy as usual.', \"Glad we don't live here, huh?\", 'Yeah, Aunt Eunice says hello.', \"Right, right, I'll call you in the morning.\", 'Yeah. Yeah, sure...', 'Just some kids drag-racing outside,', 'I think, Mom.', 'Listen, Ma. I gotta go.', \"I think there's been an accident out front.\", 'Right.', \"All right, I'll call the police.\", \"Right, I'll call the police.\", 'No. Just some neighbors having a fight, I guess.', \"I'll call you in the morning.\", 'It worked like a charm.', 'Smooth.', 'Jesus.', \"See? I told you you'd be feeling better.\", 'All day long,', \"I've been seeing that guy's weird face...\", '...and hearing those fingernails.', 'Fingernails?', \"That's amazing, you saying that.\", 'That made me remember the dream I had last night.', 'What did you dream?', 'I dreamed about a guy in a dirty red and green sweater.', 'Well, what about the fingernails?', 'Oh, he scraped his fingernails along things.', 'Actually, they were more like finger-knives or something.', 'Something he made himself, but they made a horrible sound.', 'It was like:', 'Nancy, you dreamed about the same creep I did.', \"That's impossible.\", 'What?', 'Nothing.', \"- There's something out there, isn't there?\", \"- I didn't hear anything.\", 'Well, I heard something.', \"I'm gonna punch out your ugly lights, whoever you are.\", 'Kitty, kitty.', 'Chow, chow, chow.', \"It's Rod Lane bringing Lantz down just three yards from the goal line!\", 'What a brilliant tackle, and the fans go wild.', '- What the hell are you doing here?', '- Came to make up. No big deal.', '- Your mom home?', '- Course.', \"- Oh, what's that?\", '- Intense, huh?', \"So, what's going on here, an orgy or something?\", 'Maybe a funeral, dickhead.', \"It's just a sleepover date, Rod.\", 'Tina and me. Glen was just leaving.', '- You see his face?', '- \"You see his face?\"', \"Your mom ain't home, is she?\", 'Me and Tina got stuff to discuss.', 'Rod.', \"We got her mother's bed.\", 'You guys got the rest.', 'I think we should get out of here.', 'Hey, you guys are gonna hang around, right?', \"I mean, don't leave me alone with this lunatic.\", 'Please, Nancy?', 'Glen, not now.', \"We're here for Tina now, not ourselves.\", 'Why is she so bothered by a stupid nightmare, anyway?', \"Because he was scary, that's why.\", 'Yeah.', 'Oh, Rod!', 'Yeah. Yeah, Tina!', 'Oh, God! Oh, God!', 'Oh, God!', 'Oh, God! Oh, Rod!', 'Morality sucks.', 'I knew there was something about you', 'I liked.', '- You feel better now, right?', '- Jungle man fix Jane.', 'No more fights?', 'No more fights.', 'Good.', 'No more nightmares for either one of us, then.', 'When did you have a nightmare?', 'Guys can have nightmares too, you know.', \"You ain't got a corner on the market or something.\", 'Rod?', 'Tina.', 'Tina.', 'Who do you think you are?', 'Whoever you are.', 'Somebody there?', 'Tina.', 'Tina.', 'Who the hell is that?', 'Tina.', 'Shit.', 'Please, God...', 'This...', '...is God.', 'No! No! No!', 'Yes!', 'Tina!', 'Watch this.', 'Nancy! Open the door!', 'Nancy!', 'Rod, help me! Oh, God!', 'No! No!', 'Help me, Rod!', 'Help me! Rod! Rod!', '- Help me!', '- Tina!', 'Tina!', 'Tina! Tina!', 'Tina!', '- Tina!', '- Rod! Rod!', 'Tina!', '- Tina? Tina?', \"Who did this? I'll kill you.\", '- Who did this?', '- Aaagh! Oh, God, you scared me!', 'What have you got?', 'Her name was Tina Gray.', \"It's her home.\", \"Father abandoned 10 years ago, mother's in Vegas with her boyfriend.\", \"- We're trying to reach her.\", \"- What's the coroner got?\", 'Something like a razor was the weapon, but nothing was found at the scene.', \"It looks like the victim's boyfriend.\", 'Lieutenant.', '- Where is she?', '- I put her in your office.', \"- His name's Rod Lane. He's a musician type.\", '- Arrests for drugs, brawling.', '- Terrific. What the hell was she doing there?', 'She lived there.', \"I don't mean her.\", 'I mean you.', 'What was she doing there?', 'Hello to you too, Donald.', 'Marge. Okay.', 'How you doing, baby?', \"I'm okay, Dad.\", \"Look, I don't wanna get into this now...\", '...God knows you need time, but I sure would like to know...', '...what the hell you were doing shacking up with three kids in the middle of the night...', '...especially a lunatic delinquent like Lane.', 'Rod is not a lunatic, Dad.', 'You have a sane explanation for what he did?', 'Apparently, he was crazy jealous.', \"- Nancy said they'd had a fight.\", \"- It wasn't that serious.\", \"Maybe you don't think murder is serious.\", \"How can you say I don't take her death seriously?\", 'Look, all I meant...', \"...was that their fights weren't that serious.\", 'You know, Tina...', '...she dreamed this was gonna happen.', 'What?', 'She had a nightmare that someone was trying to kill her.', \"That's why we were there, Mom.\", \"She just didn't wanna sleep alone.\", 'Police say the victim,', '15-year-old Christina Gray...', '...had quarreled earlier with her boyfriend, Rod Lane.', 'Lane is now the subject of a citywide manhunt.', 'The murder weapon, a straight razor or similar sharp object, has not yet...', \"Where do you think you're going?\", 'School.', 'You were tossing and turning all night last night.', 'You have no business going to school today.', \"I've gotta go to school, Mother.\", \"Otherwise I'll sit up there and go crazy.\", 'Did you sleep?', \"I'll sleep in study hall.\", \"I'd rather keep busy, you know?\", '- Right home after?', '- Right home after.', 'Okay.', '- See you.', '- See you.', \"I'm not gonna hurt you.\", \"I'm not gonna hurt you.\", \"- They're gonna kill me for sure.\", \"- Nobody's gonna kill you.\", 'Did you do it?', '- I never touched her.', '- You were screaming like crazy.', 'There was somebody else there.', 'The door was locked from your side.', \"Don't look at me like I'm some fucking fruitcake or something!\", \"- I'm warning you.\", '- Just move away from her, son.', 'Real easy, like your ass depended on it.', 'Hold it!', '- No!', '- Jesus Christ.', 'Hold it right there.', 'Watch it. Hold them.', \"- All right. I'm cool, I'm cool.\", 'Okay, I got him.', 'On the ground, now.', 'Come on. Get down.', '- Lieutenant, look at this. A switchblade.', \"I didn't do it! I didn't kill her, Nancy!\", 'Daddy?', 'You used me.', 'What the hell were you doing going to school today for anyway?', 'Nancy.', 'Nancy!', '- Nancy!', 'Come on, let go of my arm.', 'What is seen is not always what is real.', 'According to Shakespeare, there was something operating in nature...', '...perhaps inside human nature itself, that was rotten.', 'A canker, as he put it.', 'Now, of course,', \"Hamlet's response to this...\", \"...and to his mother's lies, was to continually probe and dig.\", 'Just like the gravediggers...', '...always trying to get beneath the surface.', 'The same is true in a different way in Julius Caesar. John, go ahead, please.', 'In the most high and palmy state of Rome, a little ere the mightiest Julius fell.', 'The graves stood tenantless, and the sheeted dead...', '...did squeak and gibber in the Roman streets:', 'As stars with trains of fire and dews of blood...', '...disasters in the sun, and the moist star...', '...upon whose influence', \"Neptune's empire stands...\", 'Nancy.', 'Nancy.', 'O God! I could be bounded in a nutshell...', '...and count myself a king of infinite space...', '...were it not that I have bad dreams.', 'Tina?', \"- Where's your pass?\", '- Screw your pass.', 'Hey, Nancy.', 'No running in the hallway.', 'Tina?', 'Tina?', 'Tina?', 'Who are you?', 'Gonna get you.', \"- It's only a dream!\", '- Come to Freddy.', 'Goddamn you!', 'No! No!', 'Okay! Okay, okay! Thompson!', \"I'll call your mother.\", 'Everything is all right now.', '- Come on. Sit down.', '- No.', \"I'm okay. I'm fine.\", 'You sure?', \"- Yeah. I'll go straight home.\", \"You'll need a hall pass.\", 'Back to work.', 'God!', '- And then what happened?', '- I told you.', \"It was dark, but I'm sure there was somebody in there...\", '...under the covers with her.', 'How could somebody be under the covers with you without you knowing about it?', 'How the fuck do I know?', \"I don't expect you to believe me anyway.\", 'What did he look like?', 'Did you get a look at him?', 'No.', 'Well, then how do you know that somebody else was there?', 'Because somebody cut her while I watched.', \"- And you didn't get a look at him?\", \"- I couldn't even see the fucker.\", 'You could just see...', '...cuts happening...', '...all at once.', 'What do you mean all at once?', 'I mean, it was as if there were four razors...', '...cutting her at the same time...', '...but invisible ones.', 'You know,', 'I probably could have saved her...', \"...if I'd have moved sooner...\", '...but I thought it was just another nightmare...', '...like the one I had the night before.', 'There was this... There was this guy.', 'He had knives for fingers.', 'Hey, you think I did it?', 'No.', 'One, two', \"Freddy's coming for you\", 'Three, four', 'Better lock your door', 'Five, six', 'Grab your crucifix', 'Seven, eight', 'Gonna stay up late', 'Nine, 10', 'Never sleep again', 'Nancy?', '- What, Mother?', \"Don't fall asleep in there.\", '- You could drown, you know.', \"- Oh, for Pete's sakes.\", 'It happens all the time.', \"I've heated up some warm milk for you.\", 'Warm milk? Gross.', 'Help!', 'Nancy!', '- Hold on, baby!', '- Mom!', \"I'm okay.\", \"- You're okay?\", \"- I'm okay.\", 'But I heard you screaming.', 'You were calling me.', 'I just slipped getting out of the tub, Mom.', 'I told you hundreds of people a year get killed like that, honey.', \"I know, but I'm okay, Mother.\", \"I'm sorry for scaring you.\", \"It's okay.\", \"I'll turn down your bed, okay?\", \"All right. I'll get my pajamas on.\", 'Okay. all-consuming act of bodily dismemberment.', 'No! No!', 'Hi.', '- God!', \"I'm sorry. Your light was on.\", \"I thought I'd see how you were.\", \"Sometimes I wish you didn't live right across the street.\", 'Will you shut up and let me in?', 'Ever stand on a trellis in your bare feet?', 'Get inside before somebody sees you.', 'I hit my head.', 'Gotta be quiet.', \"Mom's not even asleep yet.\", \"If you don't mind.\", 'I heard you freaked out in English class today.', '- Yeah, I guess I did.', \"- You haven't slept yet, have you?\", '- Not really.', '- What did you do to your arm?', 'I burned it in English class.', 'Oh, God. I look 20 years old.', 'Did you have any weird dreams last night?', 'Slept like a rock.', \"Do you believe that people can dream about what's going to happen?\", '- No.', '- Do you believe in the boogeyman?', 'No.', 'Rod killed Tina, and you know that.', \"I've got a crazy favor to ask you.\", '- uh-oh.', \"- It's nothing hard or anything.\", \"I'm gonna go and look for somebody...\", '...and I want you to stand like a sort of a guard, okay?', '- Okay?', '- Okay.', \"Now, you can't mess up.\", 'A lot might depend on this.', \"I won't screw up.\", 'Okay, turn off the light.', \"- Okay, here's what we're gonna do.\", \"- It's dark in here.\", \"And it's not what you're thinking.\", 'Glen?', 'Are you still watching?', '- Yeah, so?', \"- I'm just checking.\", 'Glen!', 'Glen?', 'Glen!', 'Rod! Watch out! Rod! Watch out!', 'Glen!', '- Glen!', 'Nancy.', 'Nancy.', 'Glen!', 'Wake up!', 'Are you there?', \"I'm here.\", 'Nancy, help me, please.', '- Save me from...', '- Freddy.', 'Glen!', \"This is just a dream. This isn't real.\", \"This is just a dream. He isn't real. He isn't...\", 'Glen!', 'No!', 'Glen, no!', 'Glen, you bastard.', 'What did I do?', 'I just asked you to do one thing, just stay awake and watch me...', '...just wake me up if it looked like I was having a bad dream...', '...and what did you do?', 'You shithead. You fell asleep.', 'Nancy?', 'Oh, shit.', 'Hurry.', 'Shut up and stay there.', \"Don't go away.\", 'Are you okay?', 'Yeah. It was just a little dream.', \"I'm going right back to sleep.\", 'Okay. Call me if you need anything, okay?', 'Okay.', 'Glen.', \"- You mind telling me what's going on?\", '- Oh, just come on.', 'Yeah.', \"Garcia, I've gotta see Rod Lane again.\", 'You know, I took the night shift so I could get some peace and quiet.', \"Look, it's urgent!\", 'We have reason to believe there might be something strange going on here.', 'Got no argument with that.', 'What are you doing here?', \"There's an unsolved murder, and I don't like unsolved murders.\", \"Especially ones that my daughter's mixed up in.\", 'What are you doing here?', '- At this hour, you should be home in bed.', \"- I just wanna see if he's okay.\", 'Nancy, take my word for it.', \"The guy's sleeping like a baby.\", \"He's not going anywhere.\", 'Just go down and look at him.', 'Please, Daddy.', 'All right. Garcia, give me the keys.', 'All right.', 'Where the hell did I put the keys?', 'Hey, hey!', 'Help! Help! Help!', 'Jesus!', 'Rod!', 'Hurry. Cut him down.', 'Grab his legs.', 'I got him.', 'God!', 'Goddamn crazy kid.', 'Grab his back, would you?', '- Got it.', 'Lower him.', 'Ashes to ashes, dust to dust.', \"May God be with this young man's soul.\", \"His life and his death attest to the scriptures' warning...\", '...that he who lives by the sword shall die by the sword.', \"But let us recall also our Lord's admonition...\", '...that we judge not, lest we be judged.', 'And may Rod Lane rest in peace.', 'Time to go, honey.', 'Hop in.', \"The killer's still loose, you know.\", \"You're saying somebody else killed Tina. Who?\", \"I don't know who he is...\", \"...but he's burned, and he wears a weird hat...\", '...and a red and green sweater, really dirty...', '...and he uses these knives, like giant fingernails.', 'Better keep her home for a few days, until she gets over the shock of this.', \"I've got something better.\", \"I'm going to get her some help.\", \"I don't see why you couldn't just give me a pill to keep me from dreaming.\", \"Everyone's got to dream, young lady.\", \"If you don't dream, you go.\", 'Okay, all set?', '- No.', '- Please, Nancy, trust us.', \"It's not you I don't trust. It's just...\", 'Okay.', \"Let's do it.\", 'Thank you, nurse.', 'How long has this been going on?', '- Since the murders.', 'She was fine before that.', 'Now she thinks her dreams are real.', \"Well, there's no sign of pathology in her EEG.\", \"I'd guess that what we have is just a normal girl...\", '...who happens to have gone through two days of hell.', 'Okay.', \"She's asleep now.\", 'Thank God.', 'What the hell are dreams anyway?', 'Mysteries. Incredible body hocus-pocus.', \"The truth is we still don't know what they are or where they come from.\", \"Okay. She's going into deep sleep now.\", 'Heart rate is a little high.', \"It's just due to anxiety.\", \"Otherwise she's nicely relaxed.\", 'All signs are normal.', 'She could dream at any time now.', 'Beta waves are slowing.', \"She's into REMs now.\", \"She's definitely dreaming now.\", \"It's a good one too.\", 'Typical dream parameter.', 'A nightmare now would be plus or minus five or six.', \"She's about three.\", \"- Doctor, what's she doing now?\", \"- I'm not...\", 'Is she asleep or awake?', \"Something's wrong.\", 'It never gets this high.', \"- What's she doing?\", \"- I don't know.\", 'Is she dreaming?', 'Listen...', \"- Nancy! Nancy, it's Mom, it's Mom.\", \"Nancy. It's Mom.\", 'What? Her hair.', '- Excuse me.', \"This'll help you sleep.\", 'No!', 'Oh, my God, her arm!', 'Get something.', 'What happened, baby? What happened?', \"It's okay, it's okay.\", 'I brought something out from my dream.', 'Where did you get that?', 'I grabbed it off his head.', 'Donald, she said she grabbed it off his head in her dream.', \"No, I'm not crazy.\", \"I'm holding the damn thing right here in my hand.\", \"I don't know where she really found it.\", 'I gotta go.', \"You didn't sleep at all last night, did you?\", '- The doctor says you have to sleep, or...', \"- I'll go even crazier?\", \"I don't think you're crazy, and stop drinking that damn coffee.\", 'So did you ask Daddy to have the hat examined?', 'I threw that filthy thing away.', \"I don't know where you found it or what you're trying to prove...\", \"What I learned in the dream clinic, that's what I'm trying to prove, Mother.\", \"Rod didn't kill Tina, and he didn't hang himself.\", \"It's this guy.\", \"He's after us in our dreams.\", \"That's just not reality, Nancy.\", \"It's real, Mama.\", 'Feel it.', '- Give me that damn thing.', '- It even has his name written in it.', 'Fred Krueger, Mom.', 'Fred Krueger.', 'Do you know who that is, Mother?', 'Because if you do, you better tell me...', \"...because he's after me now.\", 'Nancy, trust your mother for once, please.', \"You'll feel better when you get some sleep.\", 'Feel better?', 'You call this feeling better?', 'Or maybe I should grab that bottle and veg out with you.', 'Avoid everything happening to me by just getting good and loaded.', \"Fred Krueger can't come after you, Nancy.\", \"He's dead. Believe me. I know.\", 'You knew about him all this time...', \"...and you've been acting like it was something I made up?\", \"Nancy, you're sick.\", \"There's something wrong with you.\", \"You're imagining things.\", \"You'll feel better when you sleep.\", \"It's just as simple as that.\", 'Screw sleep!', \"Nancy, it's just a nightmare.\", \"That's enough.\", 'Whenever I get nervous, I eat.', \"And if you can't do that, you sleep.\", 'I used to.', 'Not anymore.', 'Did you ever read about the Balinese way of dreaming?', 'No.', 'They got this whole system they call dream skills.', 'So if you have a nightmare, for instance, like falling, right?', '- Right.', '- Well...', '...instead of screaming and getting all nuts...', '...you say, \"Okay, I\\'m gonna make up my mind...', '...that I fall into a magic world. \"', 'Make it something special like a poem or a song.', 'They get their art and literature from dreams.', 'Just wake up and write it down.', 'Dream skills.', 'Well, what if they meet a monster in their dreams? Then what?', 'They turn their back on it.', 'Take away its energy and it disappears.', \"But what happens if they don't do that?\", \"Well, I guess those people don't wake up to tell what happens.\", 'Great.', '\"Booby Traps and Improvised', 'Anti-personnel Devices\"?', 'Well, what are you reading that for?', \"I'm into survival.\", '- See you.', \"You're starting to scare me.\", 'Oh, gross.', 'Mother!', \"What's with the bars?\", '- Security.', '- Security?', '- Security from what?', '- Not from what, from whom.', \"Come down to the cellar with me and I'll tell you.\", 'You wanna know who Fred Krueger was?', 'He was a filthy child murderer who killed at least 20 kids in the neighborhood.', 'Kids we all knew.', 'Oh, Mom.', \"It drove us crazy when we didn't know who it was...\", '...but it was even worse after they caught him.', 'Did they put him away?', 'The lawyers got fat and the judge got famous...', '...but somebody forgot to sign the search warrant in the right place...', '...and Krueger was free, just like that.', 'What did you do, Mother?', 'A bunch of us parents tracked him down after they let him out.', 'We found him in an old abandoned boiler room where he used to take his kids.', 'Go on.', 'We took gasoline...', '...we poured it all around the place and made a trail of it out the door...', '...then lit the whole thing up and watched it burn.', \"But he can't get you now.\", \"He's dead, honey, because Mommy killed him.\", 'I even took his knives.', \"So it's okay now.\", 'You can sleep.', '- Hello.', 'Hi.', '- Oh, hi, how you doing?', '- Fine.', 'Stand by your window so I can see you.', 'You sound a million miles away.', \"That's much better.\", 'I see your mom went ape at the security store today.', 'You look like the Prisoner of Zenda.', \"- How long's it been since you slept?\", \"- It's coming up on the seventh day.\", \"It's okay. I checked Guinness.\", \"The record's 11.\", 'Listen, Glen. I know who he is.', '- Who?', '- The killer.', '- You do?', '- Yes.', 'And if he gets me,', \"I'm pretty sure you're next.\", 'Me? Why would anybody wanna kill me?', \"Don't ask.\", 'Just give me some help nailing the guy...', '...when I bring him out.', '- Bring him out of what?', '- My dream.', '- How do you plan to do that?', '- Just like I did the hat.', 'Have a hold of the sucker when you wake me up.', 'What...? Wait a minute.', \"You can't bring somebody out of a dream.\", \"If I can't, then you can all relax, because it's just a case of me being nuts.\", 'Yeah, well, I can save you the trouble.', \"You're nutty as a fruitcake.\", '- I love you anyway.', '- Good.', \"Then you won't mind cold-cocking this guy when I bring him out.\", '- What?', '- You heard me.', 'I grab the guy in my dream.', 'You see me struggling, so you wake me up.', 'We both come out, you whack the fucker, and we got him.', 'Are you crazy? Hit him with what?', \"You're the jock.\", 'You have a baseball bat or something.', 'Just meet me at my porch at midnight.', '- Oh, and meanwhile...', '- Meanwhile?', \"Whatever you do, don't fall asleep.\", 'Midnight?', 'Oh, man.', 'Midnight.', 'Baseball bats and boogeymen.', 'Beautiful.', 'Glen. Honey?', 'Glen.', 'Glen. Glen.', 'How can you listen to television and hear your records at the same time?', \"Oh, I wasn't listening to the tube, Ma.\", 'Just watching.', 'Miss Nude America is gonna be on tonight.', \"- How can you hear what she's going to say?\", '- Who cares what she says?', \"Don't be such a smart guy.\", 'I want you to go to bed.', \"It's almost midnight.\", \"Goodness knows we've all had a lot to deal with these last few days.\", '- I will, Mom. You guys turning in?', '- Pretty soon. Now get to bed.', \"It's over now, baby.\", \"The nightmare's over.\", 'Please.', 'Okay.', \"You shouldn't stare.\", 'You know what I think?', 'I think that kid is some kind of lunatic or something.', \"Oh, you shouldn't talk that way about that poor child.\", 'You mean those bars?', 'Marge is just being cautious, what with her being all alone...', '...and Nancy acting so nervous lately.', \"I don't care what you say.\", \"I don't want that kid hanging around with our son anymore.\", 'Glen, answer the phone.', 'Hello.', \"Just a minute. It's her.\", 'She wants to talk to Glen.', 'About what?', \"What's this about, Nancy?\", 'Just a minute.', \"She says it's private, very private and very important.\", \"Give me that. Glen's asleep.\", \"You'll have to talk to him tomorrow.\", \"You've just gotta be firm with these kids, that's all. Let's go.\", 'As a matter of fact...', 'Damn.', \"Glen. Don't fall asleep.\", 'Glen?', 'No!', 'Oh, brilliant.', 'What if Glen tries to call?', '- Hello.', \"I'm your boyfriend now, Nancy.\", 'My boyfriend.', '- Mom!', '- Locked, locked, locked, locked.', 'I locked it all up. I had to.', 'Nancy, you are going to get some sleep tonight if it kills me.', 'Give me the key, Mother.', \"I can't. I don't even have it on me. See?\", 'Damn it!', 'ANNOuNCER', 'It is now 12 midnight...', '...and this is Station KRGR leaving the air.', 'No! No! No! Ma!', 'Glen! Glen!', 'Come on, Frankie.', 'Give me a hand. Come on.', \"You won't need a stretcher up there.\", \"You'll need a mop.\", \"Let's go. Let's go.\", 'Hey!', \"Don't tell me it's another one.\", \"Lieutenant, I'm sorry to wake you...\", \"...but I've never seen anything like this before...\", \"...and this is your neighborhood, so I thought I'd better call right away.\", \"The coroner's upstairs now, but I don't think he's gonna...\", 'Would have woke me up.', 'Oh, my God.', 'Hello?', \"Yeah, I'll get him right away.\", \"Lieutenant, it's your daughter.\", '- Nancy.', '- Hi, Daddy.', '- I know what happened.', \"- I haven't been upstairs yet.\", \"Yeah, but you know he's dead, right?\", \"Yeah. Apparently he's dead.\", 'Listen, Daddy.', \"I've got a proposition for you.\", '- Listen very carefully, please.', '- Nancy.', \"I'm gonna go and get the guy who did it...\", '...and I want you to be there to arrest him when I bring him out, okay?', 'Just tell me who did it.', \"I'll go get him, baby.\", 'Fred Krueger did it, Daddy, and only I can get him.', \"It's my nightmare he comes to.\", 'Just come here and break the door down in exactly 20 minutes.', '- Can you do that?', '- Yeah, sure.', \"That'll be exactly half past midnight.\", 'Time... Time enough for me to fall asleep and find him.', 'Honey, look, you just do that.', 'Get yourself some sleep.', \"- That's what I've been telling you.\", \"- But you'll be here?\", \"- They're waiting for you upstairs.\", \"- Yeah. Sure, I'll be there, sweetheart.\", 'Now, look, you just get yourself some rest, please. Deal?', '- Deal.', '- I love you, sweetheart.', \"Look, go outside and watch my daughter's house.\", '- If you see anything funny, call me.', '- Anything funny? Like what?', \"I don't know. One thing for sure,\", \"I don't want her coming over here.\", \"She's too far gone to be able to handle this.\", '- What the hell did that, lieutenant?', \"- I don't know.\", \"- What's the coroner got to say?\", \"- He's in the john puking since he saw it.\", 'I guess I should have told you about him then.', \"Let's just get some sleep, Mom.\", \"It's gonna be okay.\", 'I was just trying to protect you.', \"I didn't see how much you needed to know.\", \"You face things. That's your nature.\", \"That's your gift...\", '...but sometime you have to turn away too.', 'I love you.', 'I love you too, baby.', 'Night.', 'Okay, Krueger.', 'We play in your court.', 'And now I lay me down to sleep.', 'I pray the Lord my soul to keep...', '...and if I die before I wake,', 'I pray the Lord my soul to take.', 'AuTOMATED VOICE: Countdown mode.', 'Ten minutes and counting.', 'What if they meet a monster in their dreams? Then what?', 'They turn their back on it.', 'Take away its energy and it disappears.', \"But what happens if they don't do that?\", \"Well, then I guess those people don't wake up to tell what happens.\", 'Nancy.', 'You dreamed about the same creep I did.', 'Gonna get you.', 'No! No! No!', 'Nancy.', 'Krueger!', \"I'm here!\", 'Come out and show yourself, you bastard!', 'Shit.', 'Come on, Krueger! Follow me!', 'Damn it!', 'Where are you?', 'Where are you, Krueger?', \"I know you're here.\", 'AuTOMATED VOICE:', 'Final 10 seconds.', 'Nine, eight, seven, six...', 'Nancy.', 'I got you now!', \"I'm crazy after all.\", \"It's on, Krueger!\", 'Take it down! Come and get me!', \"Help! I've got him! Hey, Daddy!\", \"I've got him trapped!\", 'Help! Where are you?', \"Everything's gonna be all right!\", \"Everything's under control!\", 'Get my dad, you asshole!', 'Daddy!', \"Come on! He's in here!\", \"Don't let him kill me too!\", \"Come on, Freddy. Can't you catch me?\", \"I'm gonna split you in two.\", 'Help! Daddy, help me, please!', 'Maybe I better go tell the lieutenant.', \"I'll kill you slow.\", 'Now, where are you?', 'Hey!', 'No! No, no! No!', 'Daddy, I did it! Please hurry!', 'Daddy!', 'Where are you?', 'Parker, I need some help here!', \"Okay, you guys. Come on, let's go.\", \"Let's go. Al, Jim, get over here.\", '- Nancy!', 'Daddy!', '- Daddy!', 'Get you out.', 'Open the door!', 'Watch yourself, lieutenant.', 'I got it.', \"Dad, it's Krueger!\", 'Get out of the way.', 'Nancy.', 'This way, guys. Come down here.', 'What the hell came through here?', 'As if I know.', 'Oh, my God.', 'Nancy, what the hell is going on?', 'Parker, get up here!', '- We got a fire up here too.', \"Okay, yeah, we're on our way up.\", 'What the hell is going on, Nancy?', \"He's after Mother!\", \"Daddy! Watch out! He's under there!\", 'Mother! Mother, Mother!', 'Now do you believe me?', \"They've got the fires out downstairs.\", 'Everything okay up here?', \"I'm okay.\", 'You go downstairs.', \"I'll be there in a minute.\", 'Lieutenant, is everything all right?', \"I don't know. I don't know.\", \"I know you're there, Freddy.\", 'You think you was gonna get away from me?', 'I know you too well now, Freddy.', 'Now you die.', \"It's too late, Krueger.\", 'I know the secret now.', \"This is just a dream. You're not alive.\", 'This whole thing is just a dream.', 'I want my mother and friends again.', 'You what?', 'I take back every bit of energy', 'I gave you.', \"You're nothing.\", \"You're shit.\", 'God.', \"It's bright.\", \"It's gonna burn off soon, or it wouldn't be so bright.\", '- Feeling better?', '- Oh, I feel like a million bucks.', \"They say you've bottomed out when you can't remember the night before.\", \"You know, baby, I'm gonna stop drinking.\", \"I just don't feel like it anymore.\", 'Did I keep you awake last night?', 'You look a little bit peaked.', 'No. I guess I just slept heavy.', \"Okay. I'll see you.\", 'See you.', 'Stop it.', 'Hi, everybody.', 'You believe this fog?', '- Oh, I believe anything is possible.', 'Bye.', 'Looking good, girl.', 'Hey!', '- What happened?', \"What's going on?\", \"- Hey. Hey, I'm not doing this.\", 'Glen! Let us out!', \"- I'm not doing this.\", \"- What's going on with the window?\", 'No, Mother!', '- Mother! Mother! Mother!', \"What's going on?\", 'One, two', \"Freddy's coming for you\", 'Three, four', 'Better lock your door', 'Five, six', 'Grab your crucifix', 'Seven, eight', 'Gonna stay up late', 'Nine, 10', 'Never sleep again']\n"
     ]
    }
   ],
   "source": [
    "elm_street = open(\"1984-srts/A_Nightmare_on_Elm_Street-1984.srt\", 'r').readlines()\n",
    "elm_clean = clean_up(elm_street)\n",
    "\n",
    "print(elm_clean)"
   ]
  },
  {
   "cell_type": "markdown",
   "id": "1779e473",
   "metadata": {},
   "source": [
    "sample word tokenization of tokenized sentences"
   ]
  },
  {
   "cell_type": "code",
   "execution_count": 155,
   "id": "76e398bc",
   "metadata": {},
   "outputs": [
    {
     "name": "stdout",
     "output_type": "stream",
     "text": [
      "['one', 'or', 'the', 'other', '.']\n"
     ]
    }
   ],
   "source": [
    "# step 2: tokenize each sentence into words\n",
    "tokenized_sentences = [nltk.word_tokenize(sent) for sent in elm_clean]\n",
    "\n",
    "# step 3: convert each word to lowercase\n",
    "tokenized_text = [[word.lower() for word in sent] for sent in tokenized_sentences]\n",
    "\n",
    "#notice the sentence breaks and what the first 10 items of the tokenized text\n",
    "print(tokenized_text[10])"
   ]
  },
  {
   "cell_type": "markdown",
   "id": "6abb52dc",
   "metadata": {},
   "source": [
    "All SRT files of American films from 1984"
   ]
  },
  {
   "cell_type": "code",
   "execution_count": 156,
   "id": "66f68aa1",
   "metadata": {},
   "outputs": [],
   "source": [
    "# Directory containing the files\n",
    "directory = '1984-srts'\n",
    "\n",
    "# Initialize an empty list to store the combined lines from all files\n",
    "combined_lines = []\n",
    "\n",
    "# Check if the directory exists\n",
    "if os.path.exists(directory) and os.path.isdir(directory):\n",
    "    # List all files in the directory\n",
    "    file_list = os.listdir(directory)\n",
    "\n",
    "    # Loop through each file in the directory\n",
    "    for filename in file_list:\n",
    "        # Construct the full path to the file\n",
    "        file_path = os.path.join(directory, filename)\n",
    "\n",
    "        # Check if the file is a regular file (not a directory)\n",
    "        if os.path.isfile(file_path):\n",
    "            try:\n",
    "                # Open the file and read its lines\n",
    "                with open(file_path, 'r', encoding='utf-8') as file:\n",
    "                    lines = file.readlines()\n",
    "\n",
    "                # Clean up the lines using your clean_up function\n",
    "                cleaned_lines = clean_up(lines)\n",
    "\n",
    "                # Extend the combined_lines list with the cleaned lines from the current file\n",
    "                combined_lines.extend(cleaned_lines)\n",
    "            except Exception as e:\n",
    "                print(f\"Error reading or processing file {file_path}: {e}\")\n",
    "\n",
    "# Now, combined_lines contains all the cleaned-up lines from all the files\n"
   ]
  },
  {
   "cell_type": "code",
   "execution_count": 158,
   "id": "7475d185",
   "metadata": {},
   "outputs": [
    {
     "name": "stdout",
     "output_type": "stream",
     "text": [
      "['17', 'years', 'and', '15', 'albums', 'later', ',']\n"
     ]
    }
   ],
   "source": [
    "# step 2: tokenize each sentence into words\n",
    "tokenized_lines = [nltk.word_tokenize(sent) for sent in combined_lines]\n",
    "\n",
    "# step 3: convert each word to lowercase\n",
    "tokenized_words = [[word.lower() for word in sent] for sent in tokenized_lines]\n",
    "\n",
    "#notice the sentence breaks and what the first 10 items of the tokenized text\n",
    "print(tokenized_words[10])"
   ]
  },
  {
   "cell_type": "code",
   "execution_count": 164,
   "id": "713e2606",
   "metadata": {},
   "outputs": [],
   "source": [
    "train_data2, padded_sents2 = padded_everygram_pipeline(n, tokenized_words)"
   ]
  },
  {
   "cell_type": "code",
   "execution_count": 165,
   "id": "8a9dee66",
   "metadata": {},
   "outputs": [
    {
     "data": {
      "text/plain": [
       "37029"
      ]
     },
     "execution_count": 165,
     "metadata": {},
     "output_type": "execute_result"
    }
   ],
   "source": [
    "lm2 = MLE(n)\n",
    "lm2.fit(train_data2, padded_sents2)\n",
    "len(lm2.vocab)"
   ]
  },
  {
   "cell_type": "code",
   "execution_count": 185,
   "id": "364e6d07",
   "metadata": {},
   "outputs": [
    {
     "name": "stdout",
     "output_type": "stream",
     "text": [
      "771\n"
     ]
    },
    {
     "data": {
      "text/plain": [
       "0.00044021498021316457"
      ]
     },
     "execution_count": 185,
     "metadata": {},
     "output_type": "execute_result"
    }
   ],
   "source": [
    "# how many times does dorothy appear in the model?\n",
    "print(lm2.counts['money'])\n",
    "\n",
    "# what is the probability of dorothy appearing? \n",
    "# this is technically the relative frequency of dorothy appearing \n",
    "lm2.score('money')"
   ]
  },
  {
   "cell_type": "code",
   "execution_count": 186,
   "id": "3011aa1e",
   "metadata": {},
   "outputs": [
    {
     "name": "stdout",
     "output_type": "stream",
     "text": [
      "[':', '</s>', 'outweighs', 'me', 'what', 'you', 'up', '.', '</s>', 'important', 'to', 'move', 'the', 'problem', '?', '</s>', '3', '.', '</s>', \"'ll\"]\n"
     ]
    }
   ],
   "source": [
    "print(lm.generate(20, text_seed= 'money'))"
   ]
  },
  {
   "cell_type": "code",
   "execution_count": 193,
   "id": "0c878a97",
   "metadata": {},
   "outputs": [
    {
     "data": {
      "text/plain": [
       "': i tell him.'"
      ]
     },
     "execution_count": 193,
     "metadata": {},
     "output_type": "execute_result"
    }
   ],
   "source": [
    "generate_sent(lm2, 20, text_seed='money', random_seed = 44)"
   ]
  }
 ],
 "metadata": {
  "kernelspec": {
   "display_name": "Python 3 (ipykernel)",
   "language": "python",
   "name": "python3"
  },
  "language_info": {
   "codemirror_mode": {
    "name": "ipython",
    "version": 3
   },
   "file_extension": ".py",
   "mimetype": "text/x-python",
   "name": "python",
   "nbconvert_exporter": "python",
   "pygments_lexer": "ipython3",
   "version": "3.9.13"
  }
 },
 "nbformat": 4,
 "nbformat_minor": 5
}
