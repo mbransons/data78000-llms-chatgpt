{
 "cells": [
  {
   "cell_type": "markdown",
   "id": "200cde67",
   "metadata": {},
   "source": [
    "## Tokenization lab\n",
    "LLM's and ChatGPT | Fall 2023 | McSweeney | CUNY Graduate Center\n",
    "\n",
    "**Due:** October 8\n",
    "\n",
    "\n",
    "### Background\n",
    "The purpose of this lab is to explore different tokenization methods. On their own, tokenization methods don't do much. However, they are the starting place for all natural language processing. \n",
    "\n",
    "\n",
    "#### Notes\n",
    "This is a short lab using the same dataset throughout. Feel free to switch it up, but once you are comfortable with how the different alogorithms approach the task of breaking up text, move on. "
   ]
  },
  {
   "cell_type": "markdown",
   "id": "bd47efac",
   "metadata": {},
   "source": [
    "You will be using the `datasets` package. You can [install the package](https://pypi.org/project/datasets/) with `$ pip install datasets`. If you do not have `pip` or `conda` installed on your machine, please install it now."
   ]
  },
  {
   "cell_type": "code",
   "execution_count": 1,
   "id": "5c7e72fd",
   "metadata": {},
   "outputs": [
    {
     "name": "stderr",
     "output_type": "stream",
     "text": [
      "/Users/michaelsmith/miniforge3/lib/python3.10/site-packages/tqdm/auto.py:21: TqdmWarning: IProgress not found. Please update jupyter and ipywidgets. See https://ipywidgets.readthedocs.io/en/stable/user_install.html\n",
      "  from .autonotebook import tqdm as notebook_tqdm\n"
     ]
    }
   ],
   "source": [
    "import nltk\n",
    "import timeit\n",
    "\n",
    "from datasets import load_dataset"
   ]
  },
  {
   "cell_type": "markdown",
   "id": "420d2c62",
   "metadata": {},
   "source": [
    "The next cell is just downloading the dataset. You need to be connected to the internet for this to work. \n",
    "\n",
    "This dataset is hosted by [Hugging Face](https://huggingface.co). Hugging Face hosts machine learning models, datasets, and more. We will reference them again. It's a great place to find corpora. \n",
    "\n",
    "\n",
    "The dataset is called [American Stories](https://huggingface.co/datasets/dell-research-harvard/AmericanStories). Please skim the Dataset Card. All models and datasets on the Hugging Face hub have these associated cards. "
   ]
  },
  {
   "cell_type": "code",
   "execution_count": 2,
   "id": "a36427c2",
   "metadata": {},
   "outputs": [
    {
     "name": "stderr",
     "output_type": "stream",
     "text": [
      "Downloading builder script: 100%|██████████| 8.91k/8.91k [00:00<00:00, 2.49MB/s]\n",
      "Downloading readme: 100%|██████████| 8.02k/8.02k [00:00<00:00, 6.40MB/s]\n"
     ]
    },
    {
     "name": "stdout",
     "output_type": "stream",
     "text": [
      "Only taking a subset of years. Change name to 'all_years' to use all years in the dataset.\n",
      "{'1960': 'https://huggingface.co/datasets/dell-research-harvard/AmericanStories/resolve/main/faro_1960.tar.gz'}\n"
     ]
    },
    {
     "name": "stderr",
     "output_type": "stream",
     "text": [
      "Downloading data: 100%|██████████| 256M/256M [00:04<00:00, 52.0MB/s]\n",
      "Downloading data files: 100%|██████████| 1/1 [00:05<00:00,  5.79s/it]\n",
      "Generating 1960 split: 1768 examples [00:00, 17625.89 examples/s]"
     ]
    },
    {
     "name": "stdout",
     "output_type": "stream",
     "text": [
      "Loading associated\n"
     ]
    },
    {
     "name": "stderr",
     "output_type": "stream",
     "text": [
      "Generating 1960 split: 344550 examples [00:17, 19838.49 examples/s]"
     ]
    },
    {
     "name": "stdout",
     "output_type": "stream",
     "text": [
      "SAN FRANCISCO. Nov. 10\n",
      "(AP).-Alvin Dark made his\n",
      "first decisions yesterday as\n",
      "manager Of the San Francisco\n",
      "Giants. He hired two former\n",
      "teammates as coaches.\n",
      "\n",
      "\n",
      "Dark was signed last week,\n",
      "Yesterday he selected Larry\n",
      "Jansen and Whitley Lockman\n",
      "and retained Yves Westrum and\n",
      "Salty Parker for his coaching\n",
      "staff. Bill Posedel was re-\n",
      "leased to make way for Jansen\n",
      "as boss Of the bullpen.\n",
      "\n",
      "\n",
      "Dark. Jansen and Lockman-\n",
      "stars when they played for the\n",
      "Giants have a lot in common\n",
      "They have regulations al\n",
      "gentlemen, quiet craftsmen whc\n",
      "let their feats on the field speal\n",
      "for them.\n",
      "\n",
      "\n",
      "Dark hit 1922 in his rookie\n",
      "season with the Boston Brave.\n",
      "and was named rookie of thu\n",
      "year l948 by the major league\n",
      "baseball writer's.\n",
      "\n",
      "\n",
      "AS lean. smiling youngstel\n",
      "of 18, Lockman stepped intC\n",
      "Mel Otis No. 3 batting spot IL\n",
      "midsummer Of 1945 anchead last Saturday when Mon\n",
      "treal lost in q cup playoff with\n",
      "out throwing a pass In the last\n",
      "half. Moss said it was because\n",
      "of Etcheverry's sore arm. The\n",
      "player said his arm was SOUND\n"
     ]
    },
    {
     "name": "stderr",
     "output_type": "stream",
     "text": [
      "\n"
     ]
    }
   ],
   "source": [
    "# Decide what year you want between 1810 and 1963\n",
    "\n",
    "my_year = \"1960\"\n",
    "\n",
    "# Decide how many articles you want to work with (keep this small - it's slow)\n",
    "num_articles = 10\n",
    "\n",
    "#  Download data for your choice of year (1810 to 1963)\n",
    "dataset = load_dataset(\"dell-research-harvard/AmericanStories\",\n",
    "    \"subset_years\",\n",
    "    year_list=[my_year]\n",
    ")\n",
    "\n",
    "# Get the first n articles from that year\n",
    "# instantiate the counter\n",
    "i=0\n",
    "# instantiate the string\n",
    "my_articles = ''\n",
    "# loop through each article for that year\n",
    "for article in dataset[my_year]:\n",
    "    #the article is a dictionary, \n",
    "    #we're getting the text of the article by accessing the key, \"article\"\n",
    "    my_articles += article.get('article')\n",
    "    #add one to our counter\n",
    "    i+=1\n",
    "    #if the counter is greater than num_articles-1, stop looping\n",
    "    if i>(num_articles-1): break\n",
    "    \n",
    "#validate that it is what we expect by checking on first 100 characters\n",
    "print(my_articles[:1000])\n"
   ]
  },
  {
   "cell_type": "markdown",
   "id": "935d221a",
   "metadata": {},
   "source": [
    "This section is for formatting. It removes almost all the markup in these articles. It's a fairly standard set of character encodings."
   ]
  },
  {
   "cell_type": "code",
   "execution_count": 3,
   "id": "2de5a622",
   "metadata": {},
   "outputs": [
    {
     "data": {
      "text/plain": [
       "\"SAN FRANCISCO. Nov. 10 (AP).-Alvin Dark made his first decisions yesterday as manager Of the San Francisco Giants. He hired two former teammates as coaches.   Dark was signed last week, Yesterday he selected Larry Jansen and Whitley Lockman and retained Yves Westrum and Salty Parker for his coaching staff. Bill Posedel was re- leased to make way for Jansen as boss Of the bullpen.   Dark. Jansen and Lockman- stars when they played for the Giants have a lot in common They have regulations al gentlemen, quiet craftsmen whc let their feats on the field speal for them.   Dark hit 1922 in his rookie season with the Boston Brave. and was named rookie of thu year l948 by the major league baseball writer's.   AS lean. smiling youngstel of 18, Lockman stepped intC Mel Otis No. 3 batting spot IL midsummer Of 1945 anchead last Saturday when Mon treal lost in q cup playoff with out throwing a pass In the last half. Moss said it was because of Etcheverry's sore arm. The player said his arm was SOUND\""
      ]
     },
     "execution_count": 3,
     "metadata": {},
     "output_type": "execute_result"
    }
   ],
   "source": [
    "#remove new line and other formatting characters\n",
    "for char in [\"\\n\", \"\\r\", \"\\d\", \"\\t\"]:\n",
    "    my_articles = my_articles.replace(char, \" \")\n",
    "my_articles[:1000]"
   ]
  },
  {
   "cell_type": "markdown",
   "id": "7e522efd",
   "metadata": {},
   "source": [
    "# Whitespace tokenization\n"
   ]
  },
  {
   "cell_type": "markdown",
   "id": "c55e0c7f",
   "metadata": {},
   "source": [
    "First we'll just break up the words using whitespace. As noted in class, this is a really common first pass. "
   ]
  },
  {
   "cell_type": "code",
   "execution_count": 4,
   "id": "00d1404f",
   "metadata": {},
   "outputs": [
    {
     "name": "stdout",
     "output_type": "stream",
     "text": [
      "CPU times: user 150 µs, sys: 1e+03 ns, total: 151 µs\n",
      "Wall time: 155 µs\n"
     ]
    },
    {
     "data": {
      "text/plain": [
       "['SAN',\n",
       " 'FRANCISCO.',\n",
       " 'Nov.',\n",
       " '10',\n",
       " '(AP).-Alvin',\n",
       " 'Dark',\n",
       " 'made',\n",
       " 'his',\n",
       " 'first',\n",
       " 'decisions',\n",
       " 'yesterday',\n",
       " 'as',\n",
       " 'manager',\n",
       " 'Of',\n",
       " 'the',\n",
       " 'San',\n",
       " 'Francisco',\n",
       " 'Giants.',\n",
       " 'He',\n",
       " 'hired']"
      ]
     },
     "execution_count": 4,
     "metadata": {},
     "output_type": "execute_result"
    }
   ],
   "source": [
    "%%time\n",
    "#this is a magic function to determine how long a cell takes to run. \n",
    "#It MUST be the first thing in a cell\n",
    "\n",
    "#split the whole string on spaces. This returns a list\n",
    "whitespace_tokens = my_articles.split(' ')\n",
    "\n",
    "#check the list\n",
    "whitespace_tokens[:20]"
   ]
  },
  {
   "cell_type": "markdown",
   "id": "4bb27496",
   "metadata": {},
   "source": [
    "Note: \"µs\" is microseconds, or a millionth of a second 1/1,000,000"
   ]
  },
  {
   "cell_type": "markdown",
   "id": "5d4bf8ea",
   "metadata": {},
   "source": [
    "# Morphological Tokenization \n",
    "\n",
    "Lemmatizing is the process of breaking down text into tokens by first breaking it up into \"words\" and then using syntactic knowledge of the language (in this case, English) to break up the words. \n",
    "\n",
    "Princeton maintains the [morphy project](https://wordnet.princeton.edu/documentation/morphy7wn#:~:text=Morphology%20in%20WordNet%20uses%20two,word%20that%20is%20in%20WordNet.), which powers `nltk`'s [WordNet Lemmatizer](https://www.nltk.org/api/nltk.stem.wordnet.html). You do NOT need to read this entire documentation, just acknowledge that it requires a significant amount of knowledge about English in order to make it work. "
   ]
  },
  {
   "cell_type": "code",
   "execution_count": 6,
   "id": "108e29a8",
   "metadata": {},
   "outputs": [
    {
     "name": "stderr",
     "output_type": "stream",
     "text": [
      "[nltk_data] Downloading package wordnet to\n",
      "[nltk_data]     /Users/michaelsmith/nltk_data...\n",
      "[nltk_data]   Package wordnet is already up-to-date!\n",
      "[nltk_data] Downloading package omw-1.4 to\n",
      "[nltk_data]     /Users/michaelsmith/nltk_data...\n",
      "[nltk_data]   Package omw-1.4 is already up-to-date!\n"
     ]
    }
   ],
   "source": [
    "#This lemmatizer is based on the Morphy project above\n",
    "from nltk.stem import WordNetLemmatizer\n",
    " \n",
    "#Uncomment these two lines - you may need to download these, maybe not. \n",
    "# nltk.download('wordnet')\n",
    "# nltk.download('omw-1.4')\n",
    "wn_lemmatizer = WordNetLemmatizer()"
   ]
  },
  {
   "cell_type": "code",
   "execution_count": 8,
   "id": "16560507",
   "metadata": {},
   "outputs": [
    {
     "name": "stdout",
     "output_type": "stream",
     "text": [
      "CPU times: user 5.12 ms, sys: 326 µs, total: 5.45 ms\n",
      "Wall time: 5.17 ms\n"
     ]
    },
    {
     "data": {
      "text/plain": [
       "['SAN',\n",
       " 'FRANCISCO.',\n",
       " 'Nov.',\n",
       " '10',\n",
       " '(AP).-Alvin',\n",
       " 'Dark',\n",
       " 'made',\n",
       " 'his',\n",
       " 'first',\n",
       " 'decision',\n",
       " 'yesterday',\n",
       " 'a',\n",
       " 'manager',\n",
       " 'Of',\n",
       " 'the',\n",
       " 'San',\n",
       " 'Francisco',\n",
       " 'Giants.',\n",
       " 'He',\n",
       " 'hired']"
      ]
     },
     "execution_count": 8,
     "metadata": {},
     "output_type": "execute_result"
    }
   ],
   "source": [
    "%%time\n",
    "\n",
    "#first we have to split the string on spaces to get \"words\"\n",
    "whitespace_tokens = my_articles.split(' ')\n",
    "\n",
    "my_lemmas = []\n",
    "for word in whitespace_tokens:\n",
    "    w = wn_lemmatizer.lemmatize(word)\n",
    "    my_lemmas.append(w)\n",
    "my_lemmas[:20]"
   ]
  },
  {
   "cell_type": "markdown",
   "id": "883aa4ba",
   "metadata": {},
   "source": [
    "Notice how much time it takes to tokenize on whitespace versus using morphological rules. Also notice if it produced the output you expected. Sometimes it doesn't. \n",
    "\n",
    "ms is a millisecond, or one one thousandth of a second 1/1,000"
   ]
  },
  {
   "cell_type": "markdown",
   "id": "12d79061",
   "metadata": {},
   "source": [
    "# Byte Pair Encoding"
   ]
  },
  {
   "cell_type": "markdown",
   "id": "962f282d",
   "metadata": {},
   "source": [
    "There are two implementations of BPE here. The first [uses a package (bpe)](https://github.com/soaxelbrooke/python-bpe) that you will have to install using `pip` (see above). \n",
    "\n",
    "This will implement the algorithm we covered in class and that you can review at [Hugging Face](https://youtu.be/HEikzVL-lZU)."
   ]
  },
  {
   "cell_type": "code",
   "execution_count": 10,
   "id": "3f1639f3",
   "metadata": {},
   "outputs": [],
   "source": [
    "from bpe import Encoder\n"
   ]
  },
  {
   "cell_type": "code",
   "execution_count": 16,
   "id": "8857be2b",
   "metadata": {},
   "outputs": [
    {
     "name": "stdout",
     "output_type": "stream",
     "text": [
      "CPU times: user 8.95 ms, sys: 91 µs, total: 9.04 ms\n",
      "Wall time: 9.05 ms\n"
     ]
    }
   ],
   "source": [
    "%%time\n",
    "whitespace_tokens = my_articles.split(' ')\n",
    "\n",
    "# calling the Encoder algorithm\n",
    "# we've specified 100 token vocab and 95% to be tokenized\n",
    "# the other 5% is transformed into UNK\n",
    "encoder = Encoder(100, pct_bpe=0.95)\n",
    "encoder.fit(whitespace_tokens)"
   ]
  },
  {
   "cell_type": "code",
   "execution_count": 17,
   "id": "ae30d518",
   "metadata": {},
   "outputs": [
    {
     "name": "stdout",
     "output_type": "stream",
     "text": [
      "['__sow', 's', 'an', '__eow', '__sow', 'f', 'ra', 'n', 'c', 'is', 'co', '__eow', '.', '__sow', 'n', 'o', 'v', '__eow', '.', '__sow', '1', '__unk', '__eow', '__sow', '__unk', '__eow', '__sow', 'a', 'p', '__eow', '__sow', '__unk', '__unk', '-', '__eow', '__sow', 'al', 'v', 'in', '__eow', '__sow', 'd', 'ar', 'k', '__eow', '__sow', 'ma', 'de', '__eow', '__sow', 'hi', 's', '__eow', '__sow', 'fi', 'rs', 't', '__eow', '__sow', 'de', 'c', 'is', 'io', 'n', 's', '__eow', '__sow', 'y', 'es', 'te', 'r', 'd', 'ay', '__eow', '__sow', 'as', '__eow', '__sow', 'ma', 'na', 'g', 'er', '__eow', '__sow', 'of', '__eow', 'the', '__sow', 's', 'an', '__eow', '__sow', 'f', 'ra', 'n', 'c', 'is', 'co', '__eow', '__sow', 'g', 'i', 'an', 'ts', '__eow', '.', '__sow', 'he', '__eow', '__sow', 'hi', 're', 'd', '__eow', '__sow', 't', 'w', 'o', '__eow', '__sow', 'fo', 'r', 'me', 'r', '__eow', '__sow', 'te', 'am', 'ma', 'te', 's', '__eow', '__sow', 'as', '__eow', '__sow', 'co', 'ac', 'he', 's', '__eow', '.', '__sow', 'd', 'ar', 'k', '__eow', '__sow', 'wa', 's', '__eow', '__sow', 's', 'i', 'g', 'ne', 'd', '__eow', '__sow', 'la', 'st', '__eow', '__sow', 'w', 'e', 'e', 'k', '__eow', ',', '__sow', 'y', 'es', 'te', 'r', 'd', 'ay', '__eow', '__sow', 'he', '__eow', '__sow', 'se', 'le', 'c', 'te', 'd', '__eow', '__sow', 'la', 'r', 'r', 'y', '__eow', '__sow', '__unk', 'an', 'se', 'n', '__eow', '__sow', 'an', 'd', '__eow', '__sow', 'w', 'hi', 't', 'le', 'y', '__eow', '__sow', 'lo', 'c', 'k', 'ma', 'n', '__eow', '__sow', 'an', 'd', '__eow', '__sow', 're', 't', 'a', 'in', 'ed', '__eow', '__sow', 'y', 've', 's', '__eow', '__sow', 'w', 'es', 'tr', 'u', 'm', '__eow', '__sow', 'an', 'd', '__eow', '__sow', 's', 'al', 't', 'y', '__eow', '__sow', 'p', 'ar', 'k', 'er', '__eow', '__sow', 'fo', 'r', '__eow', '__sow', 'hi', 's', '__eow', '__sow', 'co', 'ac', 'hi', 'ng', '__eow', '__sow', 'st', 'a', 'f', 'f', '__eow', '.', '__sow', 'b', 'i', 'll', '__eow', '__sow', 'p', 'os', 'ed', 'el', '__eow', '__sow', 'wa', 's', '__eow', '__sow', 're', '__eow', '__sow', '-', '__eow', '__sow', 'le', 'as', 'ed', '__eow', '__sow', 'to', '__eow', '__sow', 'ma', 'k', 'e', '__eow', '__sow', 'wa', 'y', '__eow', '__sow', 'fo', 'r', '__eow', '__sow', '__unk', 'an', 'se', 'n', '__eow', '__sow', 'as', '__eow', '__sow', 'b', 'os', 's', '__eow', '__sow', 'of', '__eow', 'the', '__sow', 'b', 'u', 'll', 'p', 'en', '__eow', '.', '__sow', 'd', 'ar', 'k', '__eow', '.', '__sow', '__unk', 'an', 'se', 'n', '__eow', '__sow', 'an', 'd', '__eow', '__sow', 'lo', 'c', 'k', 'ma', 'n', '__eow', '__sow', '-', '__eow', '__sow', 'st', 'ar', 's', '__eow', '__sow', 'w', 'he', 'n', '__eow', '__sow', 'th', 'e', 'y', '__eow', '__sow', 'p', 'la', 'y', 'ed', '__eow', '__sow', 'fo', 'r', '__eow', 'the', '__sow', 'g', 'i', 'an', 'ts', '__eow', '__sow', 'ha', 've', '__eow', '__sow', 'a', '__eow', '__sow', 'lo', 't', '__eow', '__sow', 'in', '__eow', '__sow', 'co', 'm', 'mo', 'n', '__eow', '__sow', 'th', 'e', 'y', '__eow', '__sow', 'ha', 've', '__eow', '__sow', 're', 'g', 'u', 'la', 'ti', 'on', 's', '__eow', '__sow', 'al', '__eow', '__sow', 'g', 'en', 't', 'le', 'me', 'n', '__eow', ',', '__sow', '__unk', 'u', 'i', 'et', '__eow', '__sow', 'c', 'ra', 'f', 'ts', 'me', 'n', '__eow', '__sow', 'w', 'h', 'c', '__eow', '__sow', 'le', 't', '__eow', '__sow', 'th', 'e', 'ir', '__eow', '__sow', 'f', 'ea', 'ts', '__eow', '__sow', 'on', '__eow', 'the', '__sow', 'fi', 'el', 'd', '__eow', '__sow', 's', 'p', 'ea', 'l', '__eow', '__sow', 'fo', 'r', '__eow', '__sow', 'th', 'e', 'm', '__eow', '.', '__sow', 'd', 'ar', 'k', '__eow', '__sow', 'hi', 't', '__eow', '__sow', '1', '__unk', '__unk', '__unk', '__eow', '__sow', 'in', '__eow', '__sow', 'hi', 's', '__eow', '__sow', 'ro', 'o', 'k', 'i', 'e', '__eow', '__sow', 'se', 'as', 'on', '__eow', '__sow', 'wi', 'th', '__eow', 'the', '__sow', 'b', 'os', 'to', 'n', '__eow', '__sow', 'b', 'ra', 've', '__eow', '.', '__sow', 'an', 'd', '__eow', '__sow', 'wa', 's', '__eow', '__sow', 'na', 'me', 'd', '__eow', '__sow', 'ro', 'o', 'k', 'i', 'e', '__eow', '__sow', 'of', '__eow', '__sow', 'th', 'u', '__eow', '__sow', 'y', 'ea', 'r', '__eow', '__sow', 'l', '__unk', '__unk', '__unk', '__eow', '__sow', 'b', 'y', '__eow', 'the', '__sow', 'ma', '__unk', 'or', '__eow', '__sow', 'le', 'ag', 'u', 'e', '__eow', '__sow', 'ba', 'se', 'ba', 'll', '__eow', '__sow', 'w', 'ri', 'te', 'r', '__eow', '__sow', \"'\", '__eow', '__sow', 's', '__eow', '.', '__sow', 'as', '__eow', '__sow', 'le', 'an', '__eow', '.', '__sow', 's', 'm', 'i', 'l', 'in', 'g', '__eow', '__sow', 'y', 'ou', 'ng', 'st', 'el', '__eow', '__sow', 'of', '__eow', '__sow', '1', '__unk', '__eow', ',', '__sow', 'lo', 'c', 'k', 'ma', 'n', '__eow', '__sow', 'st', 'e', 'p', 'p', 'ed', '__eow', '__sow', 'in', 't', 'c', '__eow', '__sow', 'me', 'l', '__eow', '__sow', 'o', 'ti', 's', '__eow', '__sow', 'n', 'o', '__eow', '.', '__sow', '__unk', '__eow', '__sow', 'ba', 't', 'ti', 'ng', '__eow', '__sow', 's', 'p', 'o', 't', '__eow', '__sow', 'i', 'l', '__eow', '__sow', 'm', 'i', 'd', 's', 'u', 'm', 'me', 'r', '__eow', '__sow', 'of', '__eow', '__sow', '1', '__unk', '__unk', '__unk', '__eow', '__sow', 'an', 'ch', 'ea', 'd', '__eow', '__sow', 'la', 'st', '__eow', '__sow', 's', 'at', 'u', 'r', 'd', 'ay', '__eow', '__sow', 'w', 'he', 'n', '__eow', '__sow', 'mo', 'n', '__eow', '__sow', 'tr', 'ea', 'l', '__eow', '__sow', 'lo', 'st', '__eow', '__sow', 'in', '__eow', '__sow', '__unk', '__eow', '__sow', 'c', 'u', 'p', '__eow', '__sow', 'p', 'la', 'y', 'of', 'f', '__eow', '__sow', 'wi', 'th', '__eow', '__sow', 'ou', 't', '__eow', '__sow', 'th', 'ro', 'wi', 'ng', '__eow', '__sow', 'a', '__eow', '__sow', 'p', 'as', 's', '__eow', '__sow', 'in', '__eow', 'the', '__sow', 'la', 'st', '__eow', '__sow', 'ha', 'l', 'f', '__eow', '.', '__sow', 'mo', 's', 's', '__eow', '__sow', 's', 'a', 'i', 'd', '__eow', '__sow', 'it', '__eow', '__sow', 'wa', 's', '__eow', '__sow', 'be', 'ca', 'u', 'se', '__eow', '__sow', 'of', '__eow', '__sow', 'et', 'ch', 'e', 've', 'r', 'r', 'y', '__eow', '__sow', \"'\", '__eow', '__sow', 's', '__eow', '__sow', 'so', 're', '__eow', '__sow', 'ar', 'm', '__eow', '.', 'the', '__sow', 'p', 'la', 'y', 'er', '__eow', '__sow', 's', 'a', 'i', 'd', '__eow', '__sow', 'hi', 's', '__eow', '__sow', 'ar', 'm', '__eow', '__sow', 'wa', 's', '__eow', '__sow', 'so', 'u', 'nd', '__eow', '.', '__sow', 'p', 'la', 'y', 'er', '__eow', '__sow', 'of', '__eow', 'the', '__sow', 'y', 'ea', 'r', '__eow', '__sow', 'in', '__eow', '__sow', '1', '__unk', '__unk', '__unk', '__eow', ',', '__sow', 'an', 'd', '__eow', '__sow', 'a', '__eow', '__sow', 'se', 've', 'ra', 'l', '__eow', '__sow', '-', '__eow', '__sow', 'ti', 'me', '__eow', '__sow', 'al', 'l', '__eow', '__sow', '-', '__eow', '__sow', 'st', 'ar', '__eow', '__sow', 'ch', 'o', 'ic', 'e', '__eow', '.', '__sow', 'et', 'ch', 'e', 've', 'r', 'r', 'y', '__eow', '__sow', 'ha', 's', '__eow', '__sow', 'co', 'll', 'e', 'c', 'te', 'd', '__eow', '__sow', 'e', 've', 'r', 'y', '__eow', '__sow', 'ca', 'na', 'd', 'i', 'an', '__eow', '__sow', 'fo', 'o', 't', 'ba', 'll', '__eow', '__sow', 'h', 'on', 'or', '__eow', '__sow', 'b', 'ut', '__eow', '__sow', 'on', 'e', '__eow', '__sow', '-', '__eow', '__sow', 'th', 'at', '__eow', '__sow', 'of', '__eow', '__sow', 'd', 'ir', 'e', 'c', 'ti', 'ng', '__eow', '__sow', 'a', '__eow', '__sow', 'na', 'ti', 'on', 'al', '__eow', '__sow', 'ch', 'am', 'p', 'io', 'n', 's', 'hi', 'p', '__eow', '__sow', 'c', 'l', 'u', 'b', '__eow', '.', '__sow', 'he', '__eow', '__sow', 'le', 'd', '__eow', '__sow', 'mo', 'nt', 're', 'al', '__eow', '__sow', 'in', 'to', '__eow', 'the', '__sow', 'na', 'ti', 'on', 'al', '__eow', '__sow', 'p', 'la', 'y', 'of', 'f', '__eow', ',', 'the', '__sow', 'g', 're', 'y', '__eow', '__sow', 'c', 'u', 'p', '__eow', '__sow', 'g', 'am', 'e', '__eow', ',', '__sow', 'th', 're', 'e', '__eow', '__sow', 'y', 'ea', 'rs', '__eow', '__sow', 'in', '__eow', '__sow', 'a', '__eow', '__sow', 'ro', 'w', '__eow', ',', '__sow', 'l', '__unk', '__unk', '__unk', '__eow', '__sow', '-', '__eow', '__sow', '__unk', '__unk', '__eow', '__sow', '-', '__eow', '__sow', '__unk', '__unk', '__eow', ',', '__sow', 'b', 'ut', '__eow', '__sow', 'ea', 'ch', '__eow', '__sow', 'ti', 'me', '__eow', '__sow', 'mo', 'nt', 're', 'al', '__eow', '__sow', 'lo', 'st', '__eow', '__sow', '1', '__unk', '__eow', '__sow', 'ed', 'mo', 'nt', 'on', '__eow', '.', '__sow', 'th', 'er', 'e', '__eow', '__sow', \"'\", '__eow', '__sow', 's', '__eow', '__sow', '__unk', 'u', 'st', '__eow', '__sow', 'n', 'o', '__eow', '__sow', 'p', 'la', 'c', 'e', '__eow', '__sow', 'l', 'i', 'k', 'e', '__eow', '__sow', 'h', 'o', 'me', '__eow', '__sow', 'as', '__eow', '__sow', 'f', 'ar', '__eow', '__sow', 'as', '__eow', 'the', '__sow', 'ch', 'ic', 'ag', 'o', '__eow', '__sow', 'b', 'la', 'c', 'k', '__eow', '__sow', 'ha', 'w', 'k', 's', '__eow', '__sow', 'ar', 'e', '__eow', '__sow', 'co', 'n', 'c', 'er', 'ne', 'd', '__eow', '.', 'the', '__sow', 'b', 'la', 'c', 'k', '__eow', '__sow', 'ha', 'w', 'k', 's', '__eow', '__sow', 'mo', 've', 'd', '__eow', '__sow', 'in', 'to', '__eow', '__sow', 'fi', 'rs', 't', '__eow', '__sow', 'p', 'la', 'c', 'e', '__eow', '__sow', 'in', '__eow', 'the', '__sow', 'na', 'ti', 'on', 'al', '__eow', '__sow', 'h', 'o', 'o', 'k', '__eow', '__sow', 'e', 'y', '__eow', '__sow', 'le', 'ag', 'u', 'e', '__eow', '__sow', 'la', 'st', '__eow', '__sow', 'n', 'i', 'g', 'h', 't', '__eow', '__sow', 'wi', 'th', '__eow', '__sow', 'a', '__eow', '__sow', '__unk', '__unk', '__eow', '__sow', 'v', 'ic', 'to', 'r', 'y', '__eow', '__sow', 'o', 've', 'r', '__eow', 'the', '__sow', 'to', 'ro', 'nt', 'o', '__eow', '__sow', 'ma', 'p', 'le', '__eow', '__sow', 'le', 'a', 'f', 's', '__eow', '__sow', 'in', '__eow', '__sow', 'ch', 'ic', 'ag', 'o', '__eow', '.', 'the', '__sow', 'de', 'tr', 'o', 'it', '__eow', '__sow', 're', 'd', '__eow', '__sow', 'wi', 'ng', 's', '__eow', '__sow', 's', 'co', 're', 'd', '__eow', '__sow', 'th', 're', 'e', '__eow', '__sow', 'ti', 'me', 's', '__eow', '__sow', 'in', '__eow', 'the', '__sow', 'la', 'st', '__eow', '__sow', 'p', 'er', 'io', 'd', '__eow', '__sow', 'to', '__eow', '__sow', 'ed', 'g', 'e', '__eow', 'the', '__sow', 'ra', 'ng', 'er', 's', '__eow', ',', '__sow', 'as', '__eow', '.', '__sow', 'in', '__eow', '__sow', 'ne', 'w', '__eow', '__sow', 'y', 'or', 'k', '__eow', '__sow', 'in', '__eow', 'the', '__sow', 'on', 'l', 'y', '__eow', '__sow', 'o', 'th', 'er', '__eow', '__sow', 'g', 'am', 'e', '__eow', '__sow', 'p', 'la', 'y', 'ed', '__eow', '.', 'the', '__sow', 'h', 'u', 'st', 'l', 'in', 'g', '__eow', '__sow', 'b', 'la', 'c', 'k', '__eow', '__sow', 'ha', 'w', 'k', 's', '__eow', '__sow', 're', '__eow', '__sow', '-', '__eow', '__sow', 'ma', 'n', 'ne', 'd', '__eow', '__sow', 'u', 'n', 'be', 'at', 'en', '__eow', '__sow', 'on', '__eow', '__sow', 'ch', 'ic', 'ag', 'o', '__eow', '__sow', 'ic', 'e', '__eow', '__sow', 'th', 'is', '__eow', '__sow', 'se', 'as', 'on', '__eow', '__sow', 'as', '__eow', '__sow', 'g', 'o', 'al', 'i', 'e', '__eow', '__sow', 'g', 'le', 'n', 'n', '__eow', '__sow', 'ha', 'll', '__eow', '__sow', 'f', 'as', 'hi', 'on', 'ed', '__eow', '__sow', 'hi', 's', '__eow', '__sow', 'se', 'co', 'nd', '__eow', '__sow', 's', 'h', 'ut', '__eow', '__sow', 'ou', 't', '__eow', '.', '__sow', 'in', '__eow', '__sow', 'se', 've', 'n', '__eow', '__sow', 'g', 'am', 'es', '__eow', '__sow', 'at', '__eow', '__sow', 'h', 'o', 'me', '__eow', '__sow', 'ch', 'ic', 'ag', 'o', '__eow', '__sow', 'ha', 's', '__eow', '__sow', 'w', 'on', '__eow', '__sow', 'fi', 've', '__eow', '__sow', 'ti', 'me', '__eow', '__sow', 'an', 'd', '__eow', '__sow', 'ti', 'ed', '__eow', '__sow', 't', 'w', 'o', '__eow', '.', '__sow', 'on', '__eow', 'the', '__sow', 'ro', 'a', 'd', '__eow', 'the', '__sow', 'b', 'la', 'c', 'k', '__eow', '__sow', 'ha', 'w', 'k', 's', '__eow', '__sow', 'ar', 'e', '__eow', '__sow', '__unk', '__eow', '__sow', '-', '__eow', '__sow', '__unk', '__eow', '__sow', '-', '__eow', '__sow', '__unk', '__eow', '.', 'the', '__sow', 're', 'd', '__eow', '__sow', 'wi', 'ng', 's', '__eow', '__sow', 'c', 'l', 'i', 'm', 'be', 'd', '__eow', '__sow', 'in', 'to', '__eow', '__sow', 'a', '__eow', '__sow', 'ti', 'e', '__eow', '__sow', 'fo', 'r', '__eow', '__sow', 'se', 'co', 'nd', '__eow', '__sow', 'p', 'la', 'c', 'e', '__eow', '__sow', 'wi', 'th', '__eow', 'the', '__sow', 'i', 'd', 'le', '__eow', '__sow', 'mo', 'nt', 're', 'al', '__eow', '__sow', 'ca', 'na', 'd', 'i', 'en', 's', '__eow', ',', '__sow', 'w', 'h', 'o', '__eow', '__sow', 'd', 'ro', 'p', 'p', 'ed', '__eow', '__sow', 'ou', 't', '__eow', '__sow', 'of', '__eow', '__sow', 'u', 'nd', 'is', 'p', 'ut', 'ed', '__eow', '__sow', 'p', 'os', '__eow', '__sow', 'se', 's', 's', 'io', 'n', '__eow', '__sow', 'of', '__eow', '__sow', 'fi', 'rs', 't', '__eow', '__sow', 'p', 'la', 'c', 'e', '__eow', '.', '__sow', 'ch', 'ic', 'ag', 'o', '__eow', '__sow', 'le', 'a', 'd', 's', '__eow', '__sow', 'wi', 'th', '__eow', '__sow', '1', '__unk', '__eow', '__sow', 'p', 'o', 'in', 'ts', '__eow', '.', '__sow', 'de', 'tr', 'o', 'it', '__eow', '__sow', 'an', 'd', '__eow', '__sow', 'mo', 'nt', 're', 'al', '__eow', '__sow', 'ha', 've', '__eow', '__sow', 'i', 'i', '__eow', '__sow', 'ea', 'ch', '__eow', '.', '__sow', 'wi', 'l', 't', '__eow', '__sow', 'ch', 'am', 'be', 'r', 'la', 'in', '__eow', '__sow', 'k', 'e', 'e', 'p', 's', '__eow', '__sow', 'on', '__eow', '__sow', 's', 'co', 'ri', 'ng', '__eow', '__sow', 'ba', 's', 'k', 'et', 's', '__eow', '__sow', 'an', 'd', '__eow', 'the', '__sow', 'p', 'hi', 'la', '__eow', '__sow', '-', '__eow', '__sow', 'de', 'l', 'p', 'hi', 'a', '__eow', '__sow', 'wa', 'r', 'ri', 'or', 's', '__eow', '__sow', 'k', 'e', 'e', 'p', '__eow', '__sow', 'on', '__eow', '__sow', 'wi', 'n', '__eow', '__sow', 'm', 'in', 'g', '__eow', '__sow', 'g', 'am', 'es', '__eow', '.', '__sow', 'th', 'at', '__eow', '__sow', \"'\", '__eow', '__sow', 's', '__eow', '__sow', 'be', 'en', '__eow', 'the', '__sow', 'th', 'e', 'me', '__eow', '__sow', 'of', '__eow', 'the', '__sow', 'na', 'ti', 'on', 'al', '__eow', '__sow', 'ba', 's', 'k', 'et', '__eow', '__sow', 'ba', 'll', '__eow', '__sow', 'as', 'so', 'c', 'i', 'at', 'io', 'n', '__eow', '__sow', 'se', 'as', 'on', '__eow', '__sow', 'so', '__eow', '__sow', 'f', 'ar', '__eow', '.', '__sow', 'ch', 'am', 'be', 'r', 'la', 'in', '__eow', '__sow', 'am', 'as', 'se', 'd', '__eow', '__sow', '__unk', '__unk', '__eow', '__sow', 'p', 'o', 'in', 'ts', '__eow', '__sow', 'la', 'st', '__eow', '__sow', 'n', 'i', 'g', 'h', 't', '__eow', '__sow', 'as', '__eow', 'the', '__sow', 'st', 're', 'a', 'k', '__eow', '__sow', 'in', 'g', '__eow', '__sow', 'wa', 'r', 'ri', 'or', 's', '__eow', '__sow', 'de', 'f', 'ea', 'te', 'd', '__eow', 'the', '__sow', 'lo', 's', '__eow', '__sow', 'an', 'g', 'el', 'es', '__eow', '__sow', 'la', 'k', 'er', 's', '__eow', '.', '__sow', 'l', '__unk', '__unk', '__eow', '__sow', '-', '__eow', '__sow', '1', 'l', '__unk', '__eow', ',', '__sow', 'fo', 'r', '__eow', '__sow', 'th', 'e', 'ir', '__eow', '__sow', 'se', 've', 'nt', 'h', '__eow', '__sow', 'co', 'n', 'se', 'c', 'ut', 'i', 've', '__eow', '__sow', 'v', 'ic', '__eow', '__sow', 'to', 'r', 'y', '__eow', '.', 'the', '__sow', 'p', 'hi', 'la', 'de', 'l', 'p', 'hi', 'a', '__eow', '__sow', '-', '__eow', '__sow', 'lo', 's', '__eow', '__sow', 'an', 'g', 'el', 'es', '__eow', '__sow', 'g', 'am', 'e', '__eow', '__sow', 'wa', 's', '__eow', 'the', '__sow', 'o', 'p', 'en', 'er', '__eow', '__sow', 'of', '__eow', '__sow', 'a', '__eow', '__sow', 'd', 'ou', 'b', 'le', 'he', 'a', 'de', 'r', '__eow', '__sow', 'at', '__eow', '__sow', 'st', '__eow', '.', '__sow', 'lo', 'u', 'is', '__eow', '.', '__sow', 'in', '__eow', 'the', '__sow', 'se', 'co', 'nd', '__eow', '__sow', 'g', 'am', 'e', '__eow', ',', 'the', '__sow', 'ha', 'w', 'k', 's', '__eow', '__sow', 'p', 'os', 'te', 'd', '__eow', '__sow', 'th', 'e', 'ir', '__eow', '__sow', 'fi', 'f', 'th', '__eow', '__sow', 'st', 'ra', 'i', 'g', 'h', 't', '__eow', '__sow', 'tr', 'i', 'u', 'm', 'p', 'h', '__eow', '__sow', 'in', '__eow', '__sow', 'be', 'at', 'in', 'g', '__eow', 'the', '__sow', 'de', 'tr', 'o', 'it', '__eow', '__sow', 'p', 'is', 'to', 'n', 's', '__eow', ',', '__sow', 'l', '__unk', '__unk', '__eow', '__sow', '-', '__eow', '__sow', '1', '__unk', '__unk', '__eow', '.', 'the', '__sow', 'p', 'ro', 'l', 'i', 'fi', 'c', '__eow', '__sow', 'ch', 'am', 'be', 'r', 'la', 'in', '__eow', '__sow', \"'\", '__eow', '__sow', 's', '__eow', '__sow', 's', 'co', 'ri', 'ng', '__eow', '__sow', 'ou', 't', 'p', 'ut', '__eow', '__sow', 'wa', 's', '__eow', 'the', '__sow', 'hi', 'g', 'he', 'st', '__eow', '__sow', 'in', 'd', 'i', 'v', 'i', 'd', 'u', 'al', '__eow', '__sow', 'e', 'f', 'fo', 'r', 't', '__eow', '__sow', 'of', '__eow', 'the', '__sow', 'se', 'as', 'on', '__eow', '__sow', 'wi', 'l', 't', '__eow', '__sow', 'al', 'so', '__eow', '__sow', 'ha', 'd', '__eow', 'the', '__sow', 'se', 'as', 'on', '__eow', '__sow', '__unk', '__eow', '__sow', 'p', 're', 'v', 'io', 'u', 's', '__eow', '__sow', 'hi', 'g', 'h', '__eow', '__sow', 'of', '__eow', '__sow', 'a', '__eow', '.', '__sow', 'ch', 'am', 'be', 'r', 'la', 'in', '__eow', '__sow', \"'\", '__eow', '__sow', 's', '__eow', '__sow', 'a', 'p', 'p', 'o', 'in', 't', '__eow', '__sow', 'ha', 'r', '__eow', '__sow', '-', '__eow', '__sow', 've', 'st', '__eow', '__sow', 'wa', 's', '__eow', '__sow', 'n', 'o', 't', '__eow', 'the', '__sow', 'be', 'st', '__eow', '__sow', 'of', '__eow', '__sow', 'hi', 's', '__eow', '__sow', 'p', 're', '__eow', '__sow', '-', '__eow', '__sow', 'ca', 're', 'er', '__eow', '.', 'the', '__sow', '__unk', '__eow', '__sow', '-', '__eow', '__sow', 'fo', 'o', 't', '__eow', '__sow', '-', '__eow', '__sow', '1', '__eow', '__sow', 'ch', 'am', 'be', 'r', '__eow', '.', '__sow', 'la', 'in', '__eow', ',', 'the', '__sow', 'de', 'f', 'en', 'd', 'in', 'g', '__eow', '__sow', 's', 'co', 'ri', 'ng', '__eow', '__sow', 'ch', 'am', 'p', 'io', 'n', '__eow', ',', '__sow', 't', 'wi', 'c', 'e', '__eow', '__sow', 'c', 'l', 'ic', 'k', 'ed', '__eow', '__sow', 'fo', 'r', '__eow', '__sow', '__unk', '1', '__eow', '__sow', 'p', 'o', 'in', 'ts', '__eow', '__sow', 'la', 'st', '__eow', '__sow', 'se', 'as', 'on', '__eow', '__sow', 'an', 'd', '__eow', '__sow', 'he', '__eow', '__sow', 'se', 'e', 'm', '__eow', '.', '__sow', 'to', '__eow', '__sow', 'be', '__eow', '__sow', 'a', '__eow', '__sow', 'g', 'o', 'o', 'd', '__eow', '__sow', 'be', 't', '__eow', '__sow', 'to', '__eow', '__sow', 'c', 'ra', 'c', 'k', '__eow', 'the', '__sow', 'e', '__unk', 'is', 'ti', 'ng', '__eow', '__sow', 'in', 'd', 'i', 'v', 'i', 'd', 'u', 'al', '__eow', '__sow', 'g', 'am', 'e', '__eow', '__sow', 'ma', 'ri', '__eow', '__sow', 'of', '__eow', '__sow', '__unk', '__unk', '__eow', '__sow', 'p', 'o', 'in', 'ts', '__eow', '.', '__sow', 'he', 'l', 'd', '__eow', '__sow', 'b', 'y', '__eow', '__sow', 'el', 'g', 'ir', '__eow', '__sow', 'ba', 'y', 'lo', 'r', '__eow', '__sow', 'of', '__eow', 'the', '__sow', 'la', 'k', 'er', 's', '__eow', '.', '__sow', 'ba', 'y', 'lo', 'r', '__eow', '__sow', 'k', 'e', 'p', 't', '__eow', '__sow', 'lo', 's', '__eow', '__sow', 'an', 'g', 'el', 'es', '__eow', '__sow', 'ir', '__eow', '__sow', 'co', 'nt', 'en', 'ti', 'on', '__eow', '__sow', 'wi', 'th', '__eow', '__sow', '__unk', '__unk', '__eow', '__sow', 'p', 'o', 'in', 'ts', '__eow', ',', '__sow', 'in', '__eow', '.', '__sow', 'ic', 'l', 'u', 'd', 'in', 'g', '__eow', '__sow', 'l', '__unk', '__eow', '__sow', '-', '__eow', '__sow', 'fo', 'r', '__eow', '__sow', '-', '__eow', '__sow', '1', '__unk', '__eow', '__sow', 'f', 'ro', 'm', '__eow', 'the', '__sow', 'f', 're', 'e', '__eow', '__sow', 'th', 'ro', 'w', '__eow', '__sow', 'l', 'in', 'e', '__eow', '.', '__sow', 'ch', 'am', 'be', 'r', 'la', 'in', '__eow', ',', '__sow', 'or', '__eow', 'the', '__sow', 'o', 'th', 'er', '__eow', '__sow', 'ha', 'nd', '__eow', ',', '__sow', 's', 'an', 'k', '__eow', '__sow', 'on', 'l', 'y', '__eow', '__sow', 'f', 're', 'e', '__eow', '__sow', 'th', 'ro', 'w', 's', '__eow', '__sow', 'in', '__eow', '__sow', 'is', '__eow', '__sow', 'at', 'te', 'm', 'p', 'ts', '__eow', ',', '__sow', 'b', 'ut', '__eow', '__sow', 'co', 'n', 'ne', 'c', 'te', 'd', '__eow', '__sow', 'fo', 'r', '__eow', '__sow', '__unk', '__unk', '__eow', '__sow', 'fi', 'el', 'd', '__eow', '__sow', 'g', 'o', 'al', 's', '__eow', '.', '__sow', 'lo', 's', '__eow', '__sow', 'an', 'g', 'el', 'es', '__eow', '__sow', 'ma', 'na', 'g', 'ed', '__eow', '__sow', 'to', '__eow', '__sow', 'st', 'a', '__eow', '__sow', '__unk', '__eow', '__sow', 'wi', 'th', '__eow', 'the', '__sow', 'wa', 'r', 'ri', 'or', 's', '__eow', '__sow', 'mo', 'st', '__eow', '__sow', 'of', '__eow', '__sow', 't', 'n', '__eow', ',', '__sow', 'wa', 'y', '__eow', '__sow', 'an', 'd', '__eow', 'the', '__sow', 'te', 'am', 's', '__eow', '__sow', 'en', 'te', 're', 'd', '__eow', 'the', '__sow', 'fi', 'na', 'l', '__eow', '__sow', 'p', 'er', 'io', 'd', '__eow', '__sow', 'ti', 'ed', '__eow', '.', '__sow', 'p', 'hi', 'la', 'de', 'l', 'p', 'hi', 'a', '__eow', '__sow', 'fi', 'na', 'll', 'y', '__eow', '__sow', 'se', 'al', 'ed', '__eow', 'the', '__sow', 've', 'r', 'd', 'ic', 't', '__eow', '__sow', 'in', '__eow', '__sow', 'th', 't', '__eow', '__sow', 'fi', 'na', 'l', '__eow', '__sow', 'th', 're', 'e', '__eow', '__sow', 'm', 'in', 'ut', 'es', '__eow', '__sow', 'wi', 'th', '__eow', '__sow', '__unk', '__eow', '__sow', '1', '__unk', '__eow', '__sow', '__unk', '__eow', '__sow', 'te', 'ar', '__eow', '.', '__sow', 'b', 'o', 'b', '__eow', '__sow', 'p', 'et', 'ti', 't', '__eow', '__sow', \"'\", '__eow', '__sow', 's', '__eow', '__sow', '__unk', '__unk', '__eow', '__sow', 'p', 'o', 'in', 'ts', '__eow', '__sow', 's', 'p', 'ea', 'r', '__eow', '.', '__sow', 'he', 'a', 'de', 'd', '__eow', 'the', '__sow', 'ha', 'w', 'k', 's', '__eow', '.', '__sow', 'w', 'h', 'o', '__eow', '__sow', 'w', 'er', '__eow', '__sow', \"'\", '__eow', '__sow', 'wi', 'th', 'ou', 't', '__eow', 'the', '__sow', 'se', 'r', 'v', 'ic', 'es', '__eow', '__sow', 'of', '__eow', '__sow', 'c', 'l', 'y', 'd', '__eow', '__sow', \"'\", '__eow', '__sow', 'lo', 've', 'll', 'et', 'te', '__eow', ',', '__sow', 's', 'i', 'de', 'l', 'in', 'ed', '__eow', '__sow', 'wi', 'th', '__eow', '__sow', '__unk', '__eow', '__sow', 'b', 'r', 'u', 'is', 'ed', '__eow', '__sow', 'hi', 'p', '__eow', '.', '__sow', 'st', '__eow', '.', '__sow', 'lo', 'u', 'is', '__eow', '__sow', 'ou', 't', '__eow', '__sow', 's', 'co', 're', 'd', '__eow', 'the', '__sow', 'p', 'is', 'to', 'n', 's', '__eow', ',', '__sow', '1', '__unk', '__unk', '__unk', '__eow', ',', '__sow', 'in', '__eow', '__sow', 't', 'n', '__eow', ',', '__sow', 'th', 'ir', 'd', '__eow', '__sow', 'p', 'er', 'io', 'd', '__eow', '__sow', 'to', '__eow', '__sow', 'o', 'p', 'en', '__eow', '__sow', 'u', 'p', '__eow', '__sow', 'al', '__eow', '__sow', 'l', '__unk', '__eow', '__sow', '-', '__eow', '__sow', 'p', 'o', 'in', 't', '__eow', '__sow', 'le', 'a', 'd', '__eow', '__sow', 'be', 'fo', 're', '__eow', '__sow', 'de', 'tr', 'o', 'i', '__eow', '__sow', 'c', 'lo', 'se', 'd', '__eow', 'the', '__sow', 'g', 'a', 'p', '__eow', '__sow', 'in', '__eow', 'the', '__sow', 'fi', 'na', '__eow', '__sow', '__unk', 'u', 'ar', 'te', 'r', '__eow', '.', '__sow', 'c', 'l', 'i', 'f', 'f', '__eow', '__sow', 'ha', 'g', 'an', '__eow', '__sow', 'co', 'nt', 'ri', 'b', 'ut', 'ed', '__eow', '__sow', '__unk', '__eow', '__sow', 'p', 'o', 'in', 'ts', '__eow', '__sow', 'to', '__eow', 'the', '__sow', 'ha', 'w', 'k', 's', '__eow', '__sow', 'at', 't', 'ac', 'k', '__eow', '__sow', 'fi', 've', '__eow', '__sow', 'p', 'is', 'to', 'n', '__eow', '__sow', 'p', 'la', 'y', 'er', 's', '__eow', '__sow', 'hi', 't', '__eow', '__sow', 'd', 'ou', 'b', 'l', '__eow', '__sow', 'fi', 'g', 'u', 're', 's', '__eow', ',', '__sow', 'he', 'a', 'de', 'd', '__eow', '__sow', 'b', 'y', '__eow', '__sow', 'g', 'en', 'e', '__eow', '__sow', 's', 'h', 'u', 'e', '__eow', '__sow', \"'\", '__eow', '__sow', '__unk', '__unk', '__eow', '.', '__sow', 'ra', 'p', 'ed', '__eow', '__sow', 'a', '__eow', '__sow', 'h', 'o', 'me', '__eow', '__sow', 'r', 'u', 'n', '__eow', 'the', '__sow', 'fi', 'rs', 't', '__eow', '__sow', 'ti', 'me', '__eow', '__sow', 'he', '__eow', '__sow', 'f', 'ac', 'ed', '__eow', '__sow', 'a', '__eow', '__sow', 'ma', '__unk', 'or', '__eow', '__sow', 'le', 'ag', 'u', 'e', '__eow', '__sow', 'p', 'it', 'ch', 'er', '__eow', '.', '__sow', '__unk', 'an', 'se', 'n', '__eow', '__sow', \"'\", '__eow', '__sow', 's', '__eow', '__sow', 'b', 'i', 'g', '__eow', '__sow', 'le', 'ag', 'u', 'e', '__eow', '__sow', 'de', 'b', 'ut', '__eow', '__sow', 'wa', 's', '__eow', '__sow', 'on', 'e', '__eow', '__sow', 'of', '__eow', 'the', '__sow', 'mo', 'st', '__eow', '__sow', 'he', 'ar', 't', '__eow', '__sow', 'wa', 'r', 'm', 'in', 'g', '__eow', '__sow', 'e', 've', 'r', '__eow', '.', '__sow', '1', 't', '__eow', '__sow', 'to', 'o', 'k', '__eow', 'the', '__sow', 'b', 'i', 'g', '__eow', '__sow', 'hi', 'g', 'h', 'la', 'nd', 'er', '__eow', '__sow', 'se', 've', 'n', '__eow', '__sow', 'y', 'ea', 'rs', '__eow', '__sow', 'to', '__eow', '__sow', 'g', 'et', '__eow', '__sow', 'hi', 's', '__eow', '__sow', 'fi', 'rs', 't', '__eow', '__sow', 'c', 'ra', 'c', 'k', '__eow', '__sow', 'at', '__eow', 'the', '__sow', 'ma', '__unk', 'or', 's', '__eow', '.', '__sow', 'w', 'he', 'n', '__eow', '__sow', '1', 't', '__eow', '__sow', 'fi', 'na', 'll', 'y', '__eow', '__sow', 'ca', 'me', '__eow', ',', '__sow', 'a', 'f', 'te', 'r', '__eow', '__sow', 'a', '__eow', '__sow', '__unk', '__unk', '__eow', '__sow', '-', '__eow', '__sow', '__unk', '__eow', '__sow', 'se', 'as', 'on', '__eow', '__sow', 'wi', 'th', '__eow', '__sow', 's', 'an', '__eow', '__sow', 'f', 'ra', 'n', 'c', 'is', 'co', '__eow', '__sow', 'of', '__eow', 'the', '__sow', 'p', 'ac', 'i', 'fi', 'c', '__eow', '__sow', 'co', 'as', 't', '__eow', '__sow', 'le', 'ag', 'u', 'e', '__eow', ',', '__sow', '__unk', 'an', 'se', 'n', '__eow', '__sow', 'ra', 'n', '__eow', '__sow', 'in', 'to', '__eow', '__sow', 'd', 'is', 'ma', 'l', '__eow', '__sow', 'l', 'u', 'c', 'k', '__eow', '.', '__sow', 'p', 'it', 'ch', 'in', 'g', '__eow', '__sow', 'ag', 'a', 'in', 'st', '__eow', '__sow', 'c', 'le', 've', 'la', 'nd', '__eow', '__sow', 'in', '__eow', '__sow', 'a', '__eow', '__sow', 's', 'p', 'ri', 'ng', '__eow', '__sow', 'e', '__unk', 'hi', 'b', 'it', 'io', 'n', '__eow', '__sow', 'g', 'am', 'e', '__eow', ',', '__sow', '__unk', 'an', '__eow', '__sow', 'se', 'n', '__eow', '__sow', 'wa', 's', '__eow', '__sow', 'st', 'r', 'u', 'c', 'k', '__eow', '__sow', 'b', 'y', '__eow', '__sow', 'a', '__eow', '__sow', 'l', 'in', 'e', '__eow', '__sow', 'd', 'ri', 've', '__eow', '__sow', 'hi', 't', '__eow', '__sow', 'b', 'y', '__eow', '__sow', 'b', 'o', 'b', '__eow', '__sow', 'f', 'el', 'le', 'r', '__eow', '__sow', 'an', 'd', '__eow', '__sow', 's', 'u', 'f', 'f', 'er', 'ed', '__eow', '__sow', 'a', '__eow', '__sow', 'f', 'ra', 'c', 't', 'u', 're', 'd', '__eow', '__sow', '__unk', 'a', 'w', '__eow', '.', '__sow', 'la', 'r', 'r', 'y', '__eow', '__sow', 'm', 'is', 'se', 'd', '__eow', 'the', '__sow', 'fi', 'rs', 't', '__eow', '__sow', 's', 'i', '__unk', '__eow', '__sow', 'w', 'e', 'e', 'k', 's', '__eow', '__sow', 'of', '__eow', 'the', '__sow', 'l', '__unk', '__unk', '__unk', '__eow', '__sow', 'se', 'as', 'on', '__eow', '.', '__sow', 'he', '__eow', '__sow', 'fi', 'na', 'll', 'y', '__eow', '__sow', 'g', 'o', 't', '__eow', '__sow', 'hi', 's', '__eow', '__sow', 'ch', 'an', 'c', 'e', '__eow', '__sow', 'on', '__eow', '__sow', 'ma', 'y', '__eow', '__sow', '__unk', '__unk', '__eow', ',', '__sow', 'p', 'it', 'ch', 'ed', '__eow', '__sow', 'an', 'd', '__eow', '__sow', 'w', 'on', '__eow', '__sow', 'hi', 's', '__eow', '__sow', 'fi', 'rs', 't', '__eow', '__sow', 'g', 'i', 'an', 't', '__eow', '__sow', 'g', 'am', 'e', '__eow', '__sow', 'an', 'd', '__eow', '__sow', 'w', 'en', 't', '__eow', '__sow', 'on', '__eow', '__sow', 'to', '__eow', '__sow', 'a', '__eow', '__sow', '__unk', 'l', '__eow', '__sow', '-', '__eow', '__sow', '__unk', '__eow', '__sow', 're', 'co', 'r', 'd', '__eow', ',', '__sow', 'be', 'st', '__eow', '__sow', 'in', '__eow', 'the', '__sow', 'ma', '__unk', 'or', '__eow', '__sow', 'le', 'ag', 'u', 'es', '__eow', '__sow', 'th', 'at', '__eow', '__sow', 'se', 'as', 'on', '__eow', '.', '__sow', 'd', 'ar', 'k', '__eow', ',', '__sow', 'lo', 'c', 'k', 'ma', 'n', '__eow', ',', '__sow', '__unk', 'an', 'se', 'n', '__eow', '__sow', 'an', 'd', '__eow', '__sow', 'w', 'es', 'tr', 'u', 'm', '__eow', '__sow', 'w', 'er', 'e', '__eow', '__sow', 'al', 'l', '__eow', '__sow', 'k', 'e', 'y', '__eow', '__sow', 'fi', 'g', 'u', 're', 's', '__eow', '__sow', 'th', 'at', '__eow', '__sow', 'o', 'c', 'to', 'be', 'r', '__eow', '__sow', 'd', 'ay', '__eow', '__sow', 'in', '__eow', '__sow', '1', '__unk', '__unk', '1', '__eow', '__sow', 'w', 'he', 'n', '__eow', '__sow', 'b', 'o', 'b', 'b', 'y', '__eow', '__sow', 'th', 'o', 'm', 'so', 'n', '__eow', '__sow', \"'\", '__eow', '__sow', 's', '__eow', '__sow', 'h', 'o', 'me', '__eow', '__sow', 'r', 'u', 'n', '__eow', '__sow', 'be', 'at', '__eow', 'the', '__sow', 'b', 'ro', 'o', 'k', 'l', 'y', 'n', '__eow', '__sow', 'd', 'o', 'd', 'g', 'er', 's', '__eow', '__sow', 'ir', '__eow', '__sow', 'a', '__eow', '__sow', 'na', 'ti', 'on', 'al', '__eow', '__sow', 'le', 'ag', 'u', 'e', '__eow', '__sow', 'p', 'la', 'y', 'of', '__eow', '__sow', 'an', 'd', '__eow', '__sow', 'g', 'a', 've', '__eow', 'the', '__sow', 'g', 'i', 'an', 'ts', '__eow', '__sow', 'th', 'e', 'ir', '__eow', '__sow', 'fi', 'rs', 't', '__eow', '__sow', 'p', 'en', 'na', 'nt', '__eow', '__sow', 'in', '__eow', '__sow', 'i', 'a', '__eow', '__sow', 'y', 'ea', 'rs', '__eow', '.', '__sow', 'e', '__unk', 'u', 'al', 'l', 'y', '__eow', '__sow', 'as', '__eow', '__sow', 'i', 'm', 'p', 'or', 't', 'an', 't', '__eow', '__sow', 'as', '__eow', '__sow', 'al', 'l', '__eow', 'the', '__sow', 'o', 'th', 'er', '__eow', '__sow', 'f', 'ac', 'to', 'rs', '__eow', '__sow', 'of', '__eow', 'the', '__sow', 'b', 'o', 'w', 'l', 'in', 'g', '__eow', '__sow', 'mo', 'ti', 'on', '__eow', '__sow', 'in', '__eow', '__sow', 'a', '__eow', '__sow', 'g', 'o', 'o', 'd', '__eow', '__sow', 'de', 'l', 'i', 've', 'r', 'y', '__eow', '__sow', 'is', '__eow', 'the', '__sow', 'fo', 'll', 'o', 'w', '__eow', '__sow', '-', '__eow', '__sow', 'th', 'ro', 'u', 'g', 'h', '__eow', '__sow', 'wi', 'th', '__eow', 'the', '__sow', 'ha', 'nd', '__eow', '__sow', 'an', 'd', '__eow', '__sow', 'ar', 'm', '__eow', '.', '__sow', 'a', 'f', 'te', 'r', '__eow', 'the', '__sow', 'ba', 'll', '__eow', '__sow', 'le', 'a', 've', 's', '__eow', 'the', '__sow', 'ha', 'nd', '__eow', '__sow', 'on', '__eow', '__sow', 'e', 've', 'r', 'y', '__eow', '__sow', 's', 'h', 'o', 't', '__eow', 'the', '__sow', 'ar', 'm', '__eow', '__sow', 'w', 'hi', 'ch', '__eow', '__sow', 'ha', 's', '__eow', '__sow', 'be', 'en', '__eow', '__sow', 'p', 'er', 'f', 'e', 'c', 't', 'l', 'y', '__eow', '__sow', 'st', 'ra', 'i', 'g', 'h', 't', '__eow', '__sow', 'th', 'ro', 'u', 'g', 'h', 'ou', 't', '__eow', 'the', '__sow', 'en', 'ti', 're', '__eow', '__sow', 'ba', 'c', 'k', 's', 'wi', 'ng', '__eow', '__sow', 'wi', 'll', '__eow', '__sow', 'n', 'o', 'w', '__eow', '__sow', 'be', 'nd', '__eow', '__sow', 's', 'l', 'i', 'g', 'h', 't', 'l', 'y', '__eow', '__sow', 'at', '__eow', 'the', '__sow', 'el', 'b', 'o', 'w', '__eow', '__sow', 'in', 'to', '__eow', 'the', '__sow', 'fo', 'll', 'o', 'w', '__eow', '__sow', '-', '__eow', '__sow', 'th', 'ro', 'u', 'g', 'h', '__eow', '__sow', 'as', '__eow', '__sow', '1', 't', '__eow', '__sow', 'co', 'nt', 'in', 'u', 'es', '__eow', '__sow', 'st', 'ra', 'i', 'g', 'h', 't', '__eow', '__sow', 'ou', 't', '__eow', '__sow', 'in', '__eow', '__sow', 'f', 'ro', 'nt', '__eow', '__sow', 'of', '__eow', 'the', '__sow', 'b', 'o', 'd', 'y', '__eow', '__sow', 'an', 'd', '__eow', '__sow', 'on', '__eow', '__sow', 'u', 'p', '__eow', '__sow', 'to', '__eow', '__sow', 's', 'h', 'ou', 'l', '__eow', '__sow', '-', '__eow', '__sow', 'de', 'r', '__eow', '__sow', 'le', 've', 'l', '__eow', '.', '__sow', 'ne', 've', 'r', '__eow', '__sow', 'p', 'u', 'll', '__eow', 'the', '__sow', 'ar', 'm', '__eow', '__sow', 'to', '__eow', '__sow', 'y', 'ou', 'r', '__eow', '__sow', 'le', 'f', 't', '__eow', '__sow', 's', 'i', 'de', '__eow', '__sow', 'or', '__eow', '__sow', 'an', 'g', 'le', '__eow', '__sow', 'it', '__eow', '__sow', 'of', '__eow', '__sow', 'to', '__eow', 'the', '__sow', 'ri', 'g', 'h', 't', '__eow', '.', '__sow', 'al', 'wa', 'y', 's', '__eow', '__sow', 'st', 're', 't', 'ch', '__eow', '__sow', '1', 't', '__eow', '__sow', 'ou', 't', '__eow', '__sow', 'in', '__eow', '__sow', 'f', 'ro', 'nt', '__eow', '__sow', 'of', '__eow', '__sow', 'y', 'ou', '__eow', '__sow', 'as', '__eow', '__sow', 'th', 'ou', 'g', 'h', '__eow', '__sow', 'y', 'ou', '__eow', '__sow', 'w', 'er', 'e', '__eow', '__sow', 're', 'ac', 'hi', 'ng', '__eow', '__sow', 'fo', 'r', '__eow', 'the', '__sow', 't', 'ar', 'g', 'et', '__eow', '.', 'the', '__sow', 'ri', 'g', 'h', 't', '__eow', '__sow', 'le', 'g', '__eow', ',', '__sow', 'e', '__unk', 'te', 'nd', 'ed', '__eow', '__sow', 's', 'wi', 'ng', 's', '__eow', '__sow', 's', 'l', 'i', 'g', 'h', 't', 'l', 'y', '__eow', '__sow', 'ar', 'ou', 'nd', '__eow', '__sow', 'be', 'hi', 'nd', '__eow', 'the', '__sow', 'le', 'f', 't', '__eow', '__sow', 'an', 'd', '__eow', 'the', '__sow', 'le', 'f', 't', '__eow', '__sow', 'ar', 'm', '__eow', '__sow', 'as', '__eow', '__sow', 's', 'u', 'me', 's', '__eow', '__sow', 'a', '__eow', '__sow', 'co', 'm', 'fo', 'r', 't', 'a', 'b', 'le', '__eow', '__sow', 'p', 'os', 'it', 'io', 'n', '__eow', '__sow', 'fo', 'r', '__eow', '__sow', 'p', 'er', 'f', 'e', 'c', 't', '__eow', '__sow', 'b', 'o', 'd', 'y', '__eow', '__sow', 'ba', 'la', 'n', 'c', 'e', '__eow', '.', '__sow', 'a', '__eow', '__sow', 'g', 'o', 'o', 'd', '__eow', '__sow', 'fo', 'll', 'o', 'w', '__eow', '__sow', '-', '__eow', '__sow', 'th', 'ro', 'u', 'g', 'h', '__eow', '__sow', 'wi', 'll', '__eow', '__sow', 'd', 'ir', 'e', 'c', 't', '__eow', 'the', '__sow', 'ba', 'll', '__eow', '__sow', 'to', '__eow', 'the', '__sow', 's', 'p', 'o', 't', '__eow', '__sow', 'y', 'ou', '__eow', '__sow', 'ha', 've', '__eow', '__sow', 'se', 'le', 'c', 'te', 'd', '__eow', '__sow', 'an', 'd', '__eow', '__sow', 'en', 'a', 'b', 'le', '__eow', 'the', '__sow', 'ba', 'll', '__eow', '__sow', 'to', '__eow', '__sow', 'ro', 'll', '__eow', '__sow', 'mo', 're', '__eow', '__sow', 'ac', 'c', 'u', 'ra', 'te', 'l', 'y', '__eow', '.', '__sow', 'i', 'f', '__eow', 'the', '__sow', 'fo', 'll', 'o', 'w', '__eow', '__sow', '-', '__eow', '__sow', 'th', 'ro', 'u', 'g', 'h', '__eow', '__sow', 'is', '__eow', '__sow', 'a', 'b', 'r', 'u', 'p', 't', '__eow', '__sow', 'or', '__eow', '__sow', 's', 'h', 'or', 't', '__eow', ',', '__sow', 'y', 'ou', '__eow', '__sow', 'wi', 'll', '__eow', '__sow', 'te', 'nd', '__eow', '__sow', 'to', '__eow', '__sow', 'p', 'u', 'll', '__eow', 'the', '__sow', 'ba', 'll', '__eow', '__sow', 'or', '__eow', '__sow', 'it', '__eow', '__sow', 'ma', 'y', '__eow', '__sow', 'ca', 'u', 'se', '__eow', '__sow', 'y', 'ou', '__eow', '__sow', 't', 'c', '__eow', '__sow', 'd', 'ro', 'p', '__eow', '__sow', 'it', '__eow', '__sow', 'so', 'on', 'er', '__eow', '__sow', 'th', 'an', '__eow', '__sow', 'y', 'ou', '__eow', '__sow', 's', 'h', 'ou', 'l', 'd', '__eow', '__sow', 'd', 'o', '__eow', '__sow', 'n', 'o', 't', '__eow', '__sow', 's', 'na', 'p', '__eow', '__sow', 'or', '__eow', '__sow', '__unk', 'er', 'k', '__eow', '__sow', 'ba', 'll', '__eow', '__sow', 'al', '__eow', '__sow', 'p', 'o', 'in', 't', '__eow', '__sow', 'of', '__eow', '__sow', 'de', 'l', 'i', 've', 'r', 'y', '__eow', '.', '__sow', 'th', 'is', '__eow', '__sow', 'te', 'nd', 's', '__eow', '__sow', 't', 'c', '__eow', '__sow', 'p', 'la', 'c', 'e', '__eow', '__sow', 'an', '__eow', '__sow', 'e', '__unk', 'c', 'es', 's', 'i', 've', '__eow', '__sow', 'am', 'ou', 'nt', '__eow', '__sow', 'o', 'i', '__eow', '__sow', 's', 'p', 'in', '__eow', '__sow', 'on', '__eow', 'the', '__sow', 'ba', 'll', '__eow', ',', '__sow', 'ca', 'u', 's', 'in', 'g', '__eow', '__sow', 'it', '__eow', '__sow', 't', 't', '__eow', '__sow', 'c', 'u', 'r', 've', '__eow', '__sow', 'u', 'nd', 'es', 'ir', 'a', 'b', 'l', 'y', '__eow', '.', '__sow', '__unk', '__eow', '__sow', 'd', 'u', 'c', 'k', 'p', 'in', '__eow', '__sow', 'b', 'o', 'w', 'l', 'in', 'g', '__eow', '__sow', 'co', 'u', 'n', 'c', 'i', 'd', 'ne', 'w', 'p', 'or', 't', '__eow', '__sow', 'b', 'ri', 'ng', 's', '__eow', '__sow', 'y', 'ou', '__eow', '__sow', 'al', 'l', '__eow', '__sow', 'th', 'es', 'e', '__eow', '__sow', 'f', 'am', 'ou', 's', '__eow', '__sow', 'ch', 'r', 'y', '__unk', 'le', 'r', '__eow', '__sow', 'be', 'ne', 'fi', 'ts', '__eow', '__sow', 'ro', 'o', 'm', '__eow', '.', '__sow', 'ch', 'y', 's', 'le', 'r', '__eow', '__sow', 'se', 'at', 's', '__eow', '__sow', 'ar', 'e', '__eow', '__sow', 'fi', 've', '__eow', '__sow', 'f', 'e', 'et', '__eow', '__sow', 'wi', 'de', '__eow', ',', '__sow', 'en', 'ou', 'g', 'h', '__eow', '__sow', 'fo', 'r', '__eow', '__sow', 'a', 'd', 'u', 'l', 'ts', '__eow', '__sow', 'to', '__eow', '__sow', 'tr', 'a', 've', 'l', '__eow', '__sow', 'in', '__eow', '__sow', 'u', 'n', 'w', 'ri', 'n', 'k', 'i', 'ed', '__eow', '__sow', 'ea', 'se', '__eow', '.', '__sow', 'u', 'n', 'i', 'b', 'o', 'd', 'y', '__eow', '__sow', 'de', 's', 'i', 'g', 'n', '__eow', '__sow', 'p', 'er', 'm', 'it', 's', '__eow', '__sow', 'mo', 're', '__eow', '__sow', 'e', 'f', 'fi', 'c', 'i', 'en', 't', '__eow', '__sow', 'u', 'se', '__eow', '__sow', 'of', '__eow', '__sow', 'in', 'te', 'ri', 'or', '__eow', '__sow', 's', 'p', 'ac', 'e', '__eow', '.', '__sow', 'd', 'o', 'or', '__eow', '__sow', 'o', 'p', 'en', 'in', 'g', 's', '__eow', '__sow', 'ar', 'e', '__eow', '__sow', 'wi', 'de', '__eow', '__sow', 'fo', 'r', '__eow', '__sow', 'ea', 's', 'y', '__eow', '__sow', 'en', 'tr', 'y', '__eow', '__sow', 'an', 'd', '__eow', '__sow', 'e', '__unk', 'it', '__eow', '.', '__sow', 'y', 'ou', '__eow', '__sow', 're', 'la', '__unk', '__eow', '__sow', 'as', '__eow', '__sow', 'y', 'ou', '__eow', '__sow', 'ri', 'de', '__eow', '.', '__sow', 'mo', 'nt', 're', 'al', '__eow', ',', '__sow', 'n', 'o', 'v', '__eow', '.', '__sow', '1', '__unk', '__eow', '__sow', '__unk', '__eow', '__sow', 'a', 'p', '__eow', '__sow', '__unk', '__unk', '-', '__eow', '__sow', 'ca', 'na', 'd', 'i', 'an', '__eow', '__sow', 'p', 'ro', '__eow', '__sow', 'fo', 'o', 't', 'ba', 'll', '__eow', '__sow', 'f', 'an', 's', '__eow', '__sow', 'st', 'i', 'll', '__eow', '__sow', 'w', 'er', 'e', '__eow', '__sow', 's', 'ha', 'k', 'in', 'g', '__eow', '__sow', 'th', 'e', 'ir', '__eow', '__sow', 'he', 'a', 'd', 's', '__eow', '__sow', 'in', '__eow', '__sow', 'd', 'is', '__eow', '__sow', 'be', 'l', 'i', 'e', 'f', '__eow', '__sow', 'to', 'd', 'ay', '__eow', '__sow', 'o', 've', 'r', '__eow', 'the', '__sow', 'tr', 'a', 'de', '__eow', '__sow', 'se', 'nd', '__eow', '__sow', 'in', 'g', '__eow', '__sow', 'mo', 'nt', 're', 'al', '__eow', '__sow', \"'\", '__eow', '__sow', 's', '__eow', '__sow', 's', 'am', '__eow', '__sow', 'et', 'ch', 'e', 've', 'r', 'r', 'y', '__eow', '__sow', 'an', 'd', '__eow', '__sow', 'ha', 'l', '__eow', '__sow', 'p', 'at', 'te', 'rs', 'on', '__eow', '__sow', 'to', '__eow', 'the', '__sow', 'ha', 'm', 'i', 'l', 'to', 'n', '__eow', '__sow', 'ti', 'g', 'er', '__eow', '__sow', '-', '__eow', '__sow', 'ca', 'ts', '__eow', '__sow', 'fo', 'r', '__eow', '__sow', 't', 'w', 'o', '__eow', '__sow', 'p', 'la', 'y', 'er', 's', '__eow', '.', '__sow', 'of', 'i', 'ic', 'i', 'al', 's', '__eow', '__sow', 'of', '__eow', 'the', '__sow', 'to', 'ro', 'nt', 'o', '__eow', '__sow', 'ar', 'g', 'on', 'a', 'ut', 's', '__eow', '__sow', 'an', 'd', '__eow', '__sow', 'o', 't', 't', 'a', 'wa', '__eow', '__sow', 'ro', 'u', 'g', 'h', '__eow', '__sow', 'ri', 'de', 'rs', '__eow', '.', 'the', '__sow', 'o', 'th', 'er', '__eow', '__sow', 'te', 'am', 's', '__eow', '__sow', 'in', '__eow', 'the', '__sow', 'b', 'i', 'g', '__eow', '__sow', 'fo', 'u', 'r', '__eow', '__sow', 'le', 'ag', 'u', 'e', '__eow', '.', '__sow', 'e', '__unk', 'p', 're', 's', 'se', 'd', '__eow', '__sow', 'am', 'a', '__unk', 'e', 'me', 'nt', '__eow', '__sow', 'at', '__eow', 'the', '__sow', 'de', 'al', '__eow', ',', '__sow', 'in', '__eow', '__sow', 'w', 'hi', 'ch', '__eow', 'the', '__sow', 'al', 'ou', 'et', 'te', 's', '__eow', '__sow', 'ac', '__unk', 'u', 'ir', 'ed', '__eow', '__sow', '__unk', 'u', 'ar', 'te', 'r', 'ba', 'c', 'k', '__eow', '__sow', 'be', 'r', 'n', 'i', 'e', '__eow', '__sow', 'f', 'al', 'on', 'e', 'y', '__eow', '.', '__sow', 'fo', 'r', 'me', 'r', '__eow', '__sow', 'ma', 'r', 'y', 'la', 'nd', '__eow', '__sow', 'st', 'ar', '__eow', '.', '__sow', 'an', 'd', '__eow', '__sow', 'de', '__eow', '__sow', '-', '__eow', '__sow', 'f', 'en', 's', 'i', 've', '__eow', '__sow', 'en', 'd', '__eow', '__sow', 'ro', 'n', '__eow', '__sow', 'p', 'a', '__unk', 'u', 'et', 'te', '__eow', ',', '__sow', 'a', '__eow', '__sow', 'ca', 'na', 'd', 'i', 'an', '__eow', '.', '__sow', 'a', '__eow', '__sow', 'co', 'm', 'p', 'ar', 'a', 'b', 'le', '__eow', '__sow', 'de', 'al', '__eow', '__sow', 'in', '__eow', '__sow', 'u', 'n', 'it', 'ed', '__eow', '__sow', 'st', 'at', 'es', '__eow', '__sow', 'p', 'ro', '__eow', '__sow', 'fo', 'o', 't', 'ba', 'll', '__eow', '__sow', 'w', 'ou', 'l', 'd', '__eow', '__sow', 'be', '__eow', '__sow', 'i', 'f', '__eow', 'the', '__sow', 'ba', 'l', 'ti', 'mo', 're', '__eow', '__sow', 'co', 'l', 'ts', '__eow', '__sow', 'se', 'nt', '__eow', '__sow', '__unk', 'u', 'ar', 'te', 'r', 'ba', 'c', 'k', '__eow', '__sow', '__unk', 'o', 'h', 'n', '__eow', '__sow', 'u', 'n', 'it', 'as', '__eow', '__sow', 'an', 'd', '__eow', '__sow', 'en', 'd', '__eow', '__sow', 'ra', 'y', '__eow', '__sow', 'be', 'r', 'r', 'y', '__eow', '__sow', 'to', '__eow', '__sow', 't', 'a', 'i', 'le', 'nd', '__eow', '__sow', 'c', 'l', 'u', 'b', '__eow', '__sow', 'fo', 'r', '__eow', '__sow', 'a', '__eow', '__sow', 'p', 'a', 'ir', '__eow', '__sow', 'of', '__eow', '__sow', 're', 'g', 'u', 'la', 'rs', '__eow', '.', '__sow', 'et', 'ch', 'e', 've', 'r', 'r', 'y', '__eow', '.', '__sow', 'a', '__eow', '__sow', '__unk', 'u', 'ar', 'te', 'r', 'ba', 'c', 'k', '__eow', '__sow', 'w', 'h', 'o', '__eow', '__sow', 'p', 'la', 'y', 'ed', '__eow', '__sow', 'hi', 's', '__eow', '__sow', 'co', 'll', 'e', 'g', 'e', '__eow', '__sow', 'ba', 'll', '__eow', '__sow', 'at', '__eow', '__sow', 'de', 'n', 've', 'r', '__eow', ',', '__sow', 'an', 'd', '__eow', '__sow', 'p', 'at', 'te', 'rs', 'on', '__eow', ',', '__sow', 'a', '__eow', '__sow', 'k', 'an', 's', 'as', '__eow', '__sow', 'en', 'd', '__eow', ',', '__sow', 'w', 'er', 'e', '__eow', '__sow', 'be', 'l', 'i', 'e', 've', 'd', '__eow', '__sow', 'to', '__eow', '__sow', 'be', '__eow', '__sow', 'at', '__eow', '__sow', 'ou', 'ts', '__eow', '__sow', 'wi', 'th', '__eow', '__sow', 'p', 'er', 'r', 'y', '__eow', ',', '__sow', '__unk', '__unk', '__eow', '__sow', '-', '__eow', '__sow', 'y', 'ea', 'r', '__eow', '__sow', '-', '__eow', '__sow', 'o', 'l', 'd', '__eow', '__sow', 'g', 'en', 'er', 'al', '__eow', '__sow', 'ma', 'na', 'g', 'er', '__eow', '__sow', 'an', 'd', '__eow', '__sow', 'ro', 'o', 'k', 'i', 'e', '__eow', '__sow', 'co', 'ac', 'h', '__eow', '__sow', 'of', '__eow', 'the', '__sow', 'al', 'ou', 'et', 'te', 's', '__eow', '.', '__sow', 's', 'u', 'ch', '__eow', '__sow', 'co', 'm', 'me', 'nt', 's', '__eow', '__sow', 'as', '__eow', '__sow', '__unk', '__eow', '__sow', 'ar', 'e', '__eow', '__sow', 'th', 'e', 'y', '__eow', '__sow', 'c', 'ra', '__unk', 'y', '__eow', '__sow', '__unk', '__unk', '__eow', '__sow', 'an', 'd', '__eow', '__sow', 'w', 'ha', 't', '__eow', '__sow', \"'\", '__eow', '__sow', 's', '__eow', '__sow', 're', 'al', 'l', 'y', '__eow', '__sow', 'be', '__eow', '__sow', '-', '__eow', '__sow', 'hi', 'nd', '__eow', '__sow', 'it', '__eow', '__sow', '__unk', '__unk', '__eow', '__sow', 'w', 'er', 'e', '__eow', '__sow', 'v', 'o', 'ic', 'ed', '__eow', '__sow', 'b', 'y', '__eow', '__sow', 'f', 'an', 's', '__eow', '__sow', 'on', '__eow', '__sow', 'le', 'ar', 'n', 'in', 'g', '__eow', '__sow', 'of', '__eow', 'the', '__sow', 's', 'wa', 'p', '__eow', '.', '__sow', 'on', 'e', '__eow', '__sow', 'c', 'ri', 'ti', 'c', '__eow', '__sow', 'co', 'm', 'me', 'nt', 'ed', '__eow', '__sow', '__unk', '__eow', '__sow', 'i', 'i', '__eow', '__sow', 'th', 'in', 'k', '__eow', 'the', '__sow', 'w', 'h', 'o', 'le', '__eow', '__sow', 'th', 'in', 'g', '__eow', '__sow', 'm', 'u', 'st', '__eow', '__sow', 're', 's', 'u', 'l', 't', '__eow', '__sow', 'f', 'ro', 'm', '__eow', '__sow', 'a', '__eow', '__sow', 'be', 't', '__eow', '__sow', 'b', 'y', '__eow', '__sow', 'mo', 's', 's', '__eow', '__sow', 'an', 'd', '__eow', '__sow', 'co', 'ac', 'h', '__eow', '__sow', '__unk', 'i', 'm', '__eow', '__sow', 'tr', 'i', 'm', 'b', 'le', '__eow', '__sow', 'of', '__eow', '__sow', 'ha', 'm', 'i', 'l', '__eow', '__sow', '-', '__eow', '__sow', 'to', 'n', '__eow', '__sow', 'on', '__eow', 'the', '__sow', 'u', 'n', 'it', 'ed', '__eow', '__sow', 'st', 'at', 'es', '__eow', '__sow', 'el', 'e', 'c', '__eow', '__sow', '-', '__eow', '__sow', 'ti', 'on', 's', '__eow', '__sow', '-', '__eow', '__sow', 'an', 'd', '__eow', '__sow', 'mo', 's', 's', '__eow', '__sow', 'lo', 'st', '__eow', '__sow', '__unk', '__eow', '__sow', 'mo', 's', 's', '__eow', '__sow', 's', 'a', 'i', 'd', '__eow', '__sow', 'he', '__eow', '__sow', 're', 'al', 'i', '__unk', 'es', '__eow', '__sow', 'et', 'ch', 'e', '__eow', '__sow', '-', '__eow', '__sow', 've', 'r', 'y', '__eow', '__sow', 'an', 'd', '__eow', '__sow', 'p', 'at', 'te', 'rs', 'on', '__eow', '__sow', 'ar', 'e', '__eow', '__sow', 'g', 're', 'at', '__eow', '__sow', 'in', 'd', 'i', 'v', 'i', 'd', 'u', 'al', '__eow', '__sow', 'st', 'ar', 's', '__eow', ',', '__sow', 'b', 'ut', '__eow', '__sow', 'a', 'd', 'de', 'd', '__eow', 'the', '__sow', 'te', 'am', '__eow', '__sow', 're', 'co', 'r', 'd', '__eow', 'the', '__sow', 'la', 'st', '__eow', '__sow', 'fo', 'u', 'r', '__eow', '__sow', 'y', 'ea', 'rs', '__eow', '__sow', 'ha', 'd', 'n', '__eow', '__sow', \"'\", '__eow', '__sow', 't', '__eow', '__sow', 're', 'f', 'le', 'c', 'te', 'd', '__eow', '__sow', 'th', 'e', 'ir', '__eow', '__sow', 'p', 'er', 'so', 'na', 'l', '__eow', '__sow', 'a', 'b', 'i', 'l', 'it', 'y', '__eow', '.', '__sow', 'w', 'e', '__eow', '__sow', \"'\", '__eow', '__sow', 're', '__eow', '__sow', 'p', 'ic', 'k', 'in', 'g', '__eow', '__sow', 'a', '__eow', '__sow', 'p', 'la', 'y', 'er', '__eow', '__sow', 'w', 'h', 'o', '__eow', '__sow', 'ca', 'n', '__eow', '__sow', 'r', 'u', 'n', '__eow', '__sow', 'wi', 'th', '__eow', 'the', '__sow', 'fo', 'o', 't', 'ba', 'll', '__eow', '__sow', '__unk', '__eow', '__sow', 'he', '__eow', '__sow', 's', 'a', 'i', 'd', '__eow', '.', '__sow', 'i', '__eow', '__sow', \"'\", '__eow', '__sow', 've', '__eow', '__sow', 'ne', 'ed', 'ed', '__eow', '__sow', 'a', '__eow', '__sow', 'de', 'f', 'en', 's', 'i', 've', '__eow', '__sow', 'en', 'd', '__eow', '.', '__sow', 'i', '__eow', '__sow', 'ca', 'n', '__eow', '__sow', 'g', 'u', 'ar', 'an', 'te', 'e', '__eow', '__sow', 'on', 'e', '__eow', '__sow', 'th', 'in', 'g', '__eow', '__sow', '__unk', '__eow', '__sow', 'w', 'e', '__eow', '__sow', \"'\", '__eow', '__sow', 'll', '__eow', '__sow', 'ha', 've', '__eow', '__sow', 'a', '__eow', '__sow', 'be', 't', 'te', 'r', '__eow', '__sow', 'w', 'on', '__eow', '__sow', 'lo', 'st', '__eow', '__sow', 're', 'co', 'r', 'd', '__eow', '__sow', 'ne', '__unk', 't', '__eow', '__sow', 'y', 'ea', 'r', '__eow', '.', '__sow', 'et', 'ch', 'e', 've', 'r', 'r', 'y', '__eow', '__sow', \"'\", '__eow', '__sow', 's', '__eow', '__sow', 'wi', 'f', 'e', '__eow', '__sow', 's', 'a', 'i', 'd', '__eow', '__sow', 'he', '__eow', '__sow', 'd', 'i', 'd', 'n', '__eow', '__sow', \"'\", '__eow', '__sow', 't', '__eow', '__sow', 'g', 'et', '__eow', '__sow', 'al', 'on', 'g', '__eow', '__sow', 'w', 'e', '__eow', '__sow', \"'\", '__eow', '__sow', 'll', '__eow', '__sow', 'wi', 'th', '__eow', '__sow', 'mo', 's', 's', '__eow', '__sow', 'p', 'at', 'te', 'rs', 'on', '__eow', '__sow', 'a', '__eow', '__sow', 'f', 'e', 'w', '__eow', '__sow', 'w', 'e', 'e', 'k', 's', '__eow', '__sow', 'ag', 'e', '__eow', '__sow', 'an', 'g', 'ri', 'l', 'y', '__eow', '__sow', 'wa', 'l', 'k', 'ed', '__eow', '__sow', 'ou', 't', '__eow', '__sow', 'on', '__eow', '__sow', 'a', '__eow', '__sow', 'p', 'ra', 'c', '__eow', '__sow', '-', '__eow', '__sow', 'ti', 'c', 'e', '__eow', '.', 'the', '__sow', 're', 'p', 'or', 'te', 'd', '__eow', '__sow', 'ro', 'w', '__eow', '__sow', 'ca', 'me', '__eow', '__sow', 'to', '__eow', '__sow', 'ac', 'on', 'ti', 'n', 'u', 'ed', '__eow', '__sow', 'f', 'ro', 'm', '__eow', '__sow', 'p', 'ag', 'e', '__eow', '__sow', 'c', '__eow', '__sow', '-', '__eow', '__sow', 'l', '__eow', '__sow', 'wi', 'th', '__eow', 'the', '__sow', 'ch', 'i', 'l', 'd', 're', 'n', '__eow', '__sow', 'an', 'd', '__eow', '__sow', 'd', 'o', 'in', 'g', '__eow', '__sow', '__unk', '__eow', '__sow', 'b', 'it', '__eow', '__sow', 'of', '__eow', '__sow', 'h', 'u', 'nt', 'in', 'g', '__eow', '.', '__sow', 's', 'a', 'i', 'd', '__eow', '__sow', 'he', '__eow', '__sow', 'wa', 's', '__eow', '__sow', 'so', 'r', 'r', 'y', '__eow', '__sow', 'to', '__eow', '__sow', 'se', 'e', '__eow', '__sow', 'ca', 'se', 'y', '__eow', '__sow', 'st', 'en', 'g', 'el', '__eow', '__sow', 'le', 'a', 've', '__eow', 'the', '__sow', 'y', 'an', 'k', 'e', 'es', '__eow', '.', '__sow', 'b', 'ut', '__eow', '__sow', 'a', 'd', 'de', 'd', '__eow', '__sow', 'th', 'at', '__eow', '__sow', '__unk', '__eow', '__sow', 'as', '__eow', '__sow', 'lo', 'ng', '__eow', '__sow', 'as', '__eow', '__sow', 'he', '__eow', '__sow', 'ha', 'd', '__eow', '__sow', 'to', '__eow', '__sow', 'g', 'o', '__eow', '__sow', 'th', 'e', 'y', '__eow', '__sow', 'co', 'u', 'l', 'd', 'n', '__eow', '__sow', \"'\", '__eow', '__sow', 't', '__eow', '__sow', 'ha', 've', '__eow', '__sow', 'p', 'ic', 'k', 'ed', '__eow', '__sow', 'a', '__eow', '__sow', 'be', 't', 'te', 'r', '__eow', '__sow', 'ma', 'n', '__eow', '__sow', 'th', 'an', '__eow', '__sow', 'ra', 'l', 'p', 'h', '__eow', '__sow', 'h', 'ou', 'k', '__eow', '__sow', '__unk', '__unk', '__eow', '__sow', 'fo', 'll', 'o', 'wi', 'ng', '__eow', '__sow', 'ro', 'b', 'in', 'so', 'n', '__eow', '__sow', 'in', '__eow', 'the', '__sow', 'v', 'o', 'ti', 'ng', '__eow', '__sow', 'w', 'er', 'e', '__eow', '__sow', 'm', 'in', 'n', 'i', 'e', '__eow', '__sow', \"'\", '__eow', '__sow', 'm', 'in', 'os', 'o', '__eow', '__sow', 'ch', 'ic', 'ag', 'o', '__eow', '.', '__sow', 'l', '__unk', 'l', '__eow', '__sow', '__unk', '__eow', '__sow', 'ro', 'n', '__eow', '__sow', 'ha', 'n', 'se', 'n', '__eow', '__sow', 'ba', 'l', 'ti', 'mo', 're', '__eow', ',', '__sow', 'it', 'o', '__eow', '__sow', '__unk', '__eow', '__sow', 'al', '__eow', '__sow', 's', 'm', 'it', 'h', '__eow', '.', '__sow', 'ch', 'i', '__eow', '.', '__sow', 'ca', 'g', 'o', '__eow', '.', '__sow', '__unk', '__unk', '__eow', '__sow', '__unk', '__eow', '__sow', 'ro', 'y', '__eow', '__sow', 'se', 'w', 'er', 's', '__eow', ',', '__sow', 'ch', 'ic', 'ag', 'o', '__eow', '__sow', 'so', '__eow', '__sow', '__unk', '__eow', '__sow', 'ea', 'r', 'l', '__eow', '__sow', 'ba', 't', 'te', 'y', '__eow', ',', '__sow', 'wa', 's', 'hi', 'ng', 'to', 'n', '__eow', '__sow', '__unk', '1', '__eow', '__sow', '__unk', '__eow', '__sow', 'b', 'i', 'll', '__eow', '__sow', 's', 'k', 'o', 'w', 'ro', 'n', '__eow', '.', '__sow', 'ne', 'w', '__eow', '__sow', 'y', 'or', 'k', '__eow', ',', '__sow', '__unk', '__unk', '__eow', '__sow', 'an', 'd', '__eow', '__sow', '__unk', 'i', 'm', '__eow', '__sow', 'le', 'mo', 'n', '__eow', ',', '__sow', 'wa', 's', 'hi', 'ng', 'to', 'n', '__eow', ',', '__sow', 's', 'c', '__eow', '__sow', 'ne', 'll', 'i', 'e', '__eow', '__sow', 'fo', '__unk', '__eow', '.', 'the', '__sow', 'ch', 'ic', 'ag', 'o', '__eow', '__sow', 'w', 'hi', 'te', '__eow', '__sow', 'so', '__unk', '__eow', '__sow', 'se', 'co', 'nd', '__eow', '__sow', 'ba', 'se', 'ma', 'r', '__eow', '__sow', 'w', 'h', 'o', '__eow', '__sow', 'w', 'on', '__eow', '__sow', '1', '__unk', '__unk', '__unk', '__eow', '__sow', 'm', 'v', 'p', '__eow', '__sow', 'h', 'on', 'or', 's', '__eow', '__sow', 'p', 'o', 'll', 'ed', '__eow', '__sow', 'on', 'l', 'y', '__eow', '__sow', 'i', 'i', '__eow', '__sow', 'p', 'o', 'in', 'ts', '__eow', '__sow', 'th', 'is', '__eow', '__sow', 'y', 'ea', 're', 'as', 'te', 'r', 'n', '__eow', '__sow', 'd', 'i', 'v', 'is', 'io', 'n', '__eow']\n"
     ]
    }
   ],
   "source": [
    "print(encoder.tokenize(my_articles))\n",
    "\n",
    "#print(next(encoder.inverse_transform(encoder.transform([my_articles]))))"
   ]
  },
  {
   "cell_type": "code",
   "execution_count": 56,
   "id": "90324f0e",
   "metadata": {},
   "outputs": [],
   "source": [
    "import numpy as np\n",
    "import pandas as pd\n",
    "\n",
    "us_place_names = pd.read_csv('https://raw.githubusercontent.com/rfordatascience/tidytuesday/master/data/2023/2023-06-27/us_place_names.csv')\n"
   ]
  },
  {
   "cell_type": "code",
   "execution_count": 57,
   "id": "13beaf38",
   "metadata": {},
   "outputs": [
    {
     "data": {
      "text/plain": [
       "20974"
      ]
     },
     "execution_count": 57,
     "metadata": {},
     "output_type": "execute_result"
    }
   ],
   "source": [
    "place_counts = us_place_names['feature_name'].value_counts()\n",
    "\n",
    "# filter out all names with a count of only 1\n",
    "filtered_value_counts = place_counts[place_counts > 1]\n",
    "\n",
    "filtered_value_counts.size"
   ]
  },
  {
   "cell_type": "code",
   "execution_count": 58,
   "metadata": {},
   "outputs": [
    {
     "data": {
      "text/plain": [
       "feature_name\n",
       "Midway            215\n",
       "Fairview          210\n",
       "Oak Grove         169\n",
       "Five Points       149\n",
       "Riverside         127\n",
       "Pleasant Hill     123\n",
       "Mount Pleasant    119\n",
       "Bethel            108\n",
       "Centerville       107\n",
       "New Hope          105\n",
       "Name: count, dtype: int64"
      ]
     },
     "execution_count": 58,
     "metadata": {},
     "output_type": "execute_result"
    }
   ],
   "source": [
    "filtered_value_counts[:10]"
   ]
  },
  {
   "cell_type": "code",
   "execution_count": 59,
   "id": "93c72c33",
   "metadata": {},
   "outputs": [
    {
     "data": {
      "image/png": "[encoded data removed]",
      "text/plain": [
       "<Figure size 640x480 with 1 Axes>"
      ]
     },
     "metadata": {},
     "output_type": "display_data"
    }
   ],
   "source": [
    "import matplotlib.pyplot as plt\n",
    "\n",
    "# Set up the histogram with a log base 10 scale on the x-axis and custom x-axis ticks\n",
    "plt.hist(np.log10(filtered_value_counts), bins=10)  # Apply log10 to the data for x-axis\n",
    "plt.xlabel('Log Value')\n",
    "plt.ylabel('Count')\n",
    "plt.title('Histogram of Filtered Value Counts (Log10 Scale on X-axis)')\n",
    "\n",
    "# Set custom x-axis ticks starting at 2\n",
    "x_ticks = np.arange(2, np.log10(filtered_value_counts.max()) + 1, 1)  # Adjust the range as needed\n",
    "plt.xticks(x_ticks, [int(10**x) for x in x_ticks])  # Convert back to linear scale for tick labels\n",
    "\n",
    "plt.show()\n"
   ]
  },
  {
   "cell_type": "code",
   "execution_count": 61,
   "id": "e4e10510",
   "metadata": {},
   "outputs": [
    {
     "data": {
      "text/plain": [
       "feature_name\n",
       "Midway            215\n",
       "Fairview          210\n",
       "Oak Grove         169\n",
       "Five Points       149\n",
       "Riverside         127\n",
       "Pleasant Hill     123\n",
       "Mount Pleasant    119\n",
       "Bethel            108\n",
       "Centerville       107\n",
       "New Hope          105\n",
       "Name: count, dtype: int64"
      ]
     },
     "execution_count": 61,
     "metadata": {},
     "output_type": "execute_result"
    }
   ],
   "source": [
    "filtered_value_counts[:10]"
   ]
  },
  {
   "cell_type": "code",
   "execution_count": 73,
   "id": "fbf3b807",
   "metadata": {},
   "outputs": [
    {
     "data": {
      "text/plain": [
       "'Adamana Adobe Agua Fria Ajo Ak Chin Alhambra Ali Chuk Allenville Apache Flats Arizola Arizona City Audley Avondale Bacavi Bagdad Bakerville Bapchule Beardsley Benson Big Springs Bisbee Bisbee Junction'"
      ]
     },
     "execution_count": 73,
     "metadata": {},
     "output_type": "execute_result"
    }
   ],
   "source": [
    "combined_string = us_place_names['feature_name'].str.cat(sep=' ')\n",
    "combined_string[:200]"
   ]
  },
  {
   "cell_type": "code",
   "execution_count": 64,
   "id": "f7d85c82",
   "metadata": {},
   "outputs": [],
   "source": [
    "place_tokens = combined_string.split(' ')\n",
    "\n",
    "# calling the Encoder algorithm\n",
    "# we've specified 100 token vocab and 95% to be tokenized\n",
    "# the other 5% is transformed into UNK\n",
    "encoder = Encoder(100, pct_bpe=0.95)\n",
    "encoder.fit(place_tokens)"
   ]
  },
  {
   "cell_type": "code",
   "execution_count": 71,
   "id": "2b1db365",
   "metadata": {},
   "outputs": [
    {
     "data": {
      "text/plain": [
       "303730"
      ]
     },
     "execution_count": 71,
     "metadata": {},
     "output_type": "execute_result"
    }
   ],
   "source": [
    "len(place_tokens)"
   ]
  },
  {
   "cell_type": "code",
   "execution_count": 77,
   "id": "b7a2ce36",
   "metadata": {},
   "outputs": [
    {
     "name": "stdout",
     "output_type": "stream",
     "text": [
      "adamana adobe agua fria a__unko ak chin alhambra ali chuk allenville apache flats ari__unkola ari__unkona city audley avondale bacavi bagdad bakerville bapchule beardsley benson big springs bisbee bisbee __unkunction\n"
     ]
    }
   ],
   "source": [
    "# print(encoder.tokenize(combined_string[:200]))\n",
    "\n",
    "print(next(encoder.inverse_transform(encoder.transform([combined_string[:200]]))))"
   ]
  }
 ],
 "metadata": {
  "kernelspec": {
   "display_name": "Python 3 (ipykernel)",
   "language": "python",
   "name": "python3"
  },
  "language_info": {
   "codemirror_mode": {
    "name": "ipython",
    "version": 3
   },
   "file_extension": ".py",
   "mimetype": "text/x-python",
   "name": "python",
   "nbconvert_exporter": "python",
   "pygments_lexer": "ipython3",
   "version": "3.10.10"
  }
 },
 "nbformat": 4,
 "nbformat_minor": 5
}
