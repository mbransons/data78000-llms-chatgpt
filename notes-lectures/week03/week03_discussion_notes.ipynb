{
 "cells": [
  {
   "cell_type": "markdown",
   "metadata": {},
   "source": [
    "## Toxicity and Bias in LLMs\n",
    "\n",
    "bias - stereotypes (machine learning category)\n",
    "toxicity - harm to populations (the application)\n",
    "\n",
    "group attribution bias - basically the model is 'racist.' \n",
    "automation bias - trust the model because it's a machine\n",
    "machine bias - 'minimization of loss' bias emerges from the training process, 'overfitting to the data.' \n",
    "\n",
    "Tools's usage is my concern... A Cambridge Analytica that finds a way to successfully lever the tool to influence...\n",
    "\n",
    "n-grams of Google vs. neural network response not so clearly understood.\n",
    "\n",
    "Who's determining bias correctness??? How can you engage the communities of interest to 'read' the dataset for bias in particular contexts. \n",
    "\n",
    "Training against the 'toxic model' which was trained off of 4chan sites and banned subreddits... \n",
    "\n",
    "The labor of looking at toxic material... \n",
    "\n",
    "Wage theft... vs. Content theft...\n",
    "\n",
    "Venture capital to make money off the models...\n",
    "\n",
    "The PILE a dataset that is known to have problems... Used by everyone... \n",
    "\n",
    "The larger concern may ultimately lie in how the tools are used for purposes we find objectionable or 'unfair.'\n",
    "\n",
    "More people are afraid of the person holding the 'knife' not the 'knife' itself.\n",
    "\n",
    "bias is put into a context that creates toxicity. The feedback loop that is what is toxic, the constitutional ai. \n",
    "\n",
    "\"Fix the models\" OR\n",
    "\n",
    "\"Train the people\" (bias is baked in the human experience)\n",
    "\n",
    "\"Should we listen to these models\"  \n",
    "\n",
    "How and why should we care about bias in LLMs and toxicity..."
   ]
  },
  {
   "cell_type": "markdown",
   "metadata": {},
   "source": []
  },
  {
   "cell_type": "markdown",
   "metadata": {},
   "source": []
  }
 ],
 "metadata": {
  "kernelspec": {
   "display_name": "Python 3",
   "language": "python",
   "name": "python3"
  },
  "language_info": {
   "name": "python",
   "version": "3.9.13"
  },
  "orig_nbformat": 4
 },
 "nbformat": 4,
 "nbformat_minor": 2
}
