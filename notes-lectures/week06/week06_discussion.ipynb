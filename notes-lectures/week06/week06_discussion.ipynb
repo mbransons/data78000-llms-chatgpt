{
 "cells": [
  {
   "cell_type": "markdown",
   "metadata": {},
   "source": [
    "### Privacy\n",
    "\n",
    "* ability to keep things from public view\n",
    "* right to control personal information and data\n",
    "* protect individuals from \"unauthorized access\" of personal information\n",
    "* financial, ssn\n",
    "* browser histories, cookies!!!!!\n",
    "* medical information protected\n",
    "\n",
    "#### How has digital age impacted our understanding of privacy? \n",
    "* medical, financial\n",
    "* professional presentations of self \n",
    "* lack of control over sharing\n",
    "* voluntarily giving personal information to an LLM\n",
    "* giving information basically to any company - DNA to 23 and Me\n",
    "* GDPR Yay the Europeans?!\n",
    "\n",
    "#### What are major privacy concerns of today?\n",
    "* \n",
    "\n",
    "### Copyright\n",
    "* What do the creators of LLMs owe the creators of texts?\n",
    "\n",
    "\n"
   ]
  }
 ],
 "metadata": {
  "language_info": {
   "name": "python"
  },
  "orig_nbformat": 4
 },
 "nbformat": 4,
 "nbformat_minor": 2
}
