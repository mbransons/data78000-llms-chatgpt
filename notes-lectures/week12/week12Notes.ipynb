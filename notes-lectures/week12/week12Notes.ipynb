{
 "cells": [
  {
   "cell_type": "markdown",
   "metadata": {},
   "source": [
    "## Emergent Behavior Discussion\n",
    "\n",
    "\n",
    "* Emergent Abilities...\n",
    "    * Chain of thought prompting \n",
    "    * Math calculations \n",
    "    * Can reason about words that it's never been exposed to\n",
    "    * Can do things that it wasn't trained to do\n",
    "    * Not accurate we call it a hallucination\n",
    "* So many parameters there is so much statistical abstraction\n",
    "\n",
    "* Emergent behaviors happen only in large models, does not occur in small models"
   ]
  }
 ],
 "metadata": {
  "language_info": {
   "name": "python"
  }
 },
 "nbformat": 4,
 "nbformat_minor": 2
}
