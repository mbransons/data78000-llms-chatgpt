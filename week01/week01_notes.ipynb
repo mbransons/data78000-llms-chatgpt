{
 "cells": [
  {
   "cell_type": "markdown",
   "metadata": {},
   "source": [
    "#### Introductions to the course and N-grams\n",
    "\n",
    "* P(Doom) - 2070 – IP Apocalypse 0 – 1 ; .5\n",
    "* [Lecture Slides](https://github.com/michellejm/LLMs-fall-23/blob/main/week1-intro/Intro-to-LLMs-wk1.pdf)\n"
   ]
  }
 ],
 "metadata": {
  "language_info": {
   "name": "python"
  },
  "orig_nbformat": 4
 },
 "nbformat": 4,
 "nbformat_minor": 2
}
